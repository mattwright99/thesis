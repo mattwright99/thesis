{
 "cells": [
  {
   "cell_type": "markdown",
   "id": "fe5d95ec",
   "metadata": {},
   "source": [
    "## Kernel Dev\n",
    "This notebook was used to develope the kernelized classifier and experiment with the code structure. It is mostly outdated now so the `helper_funcs.py` script prefered."
   ]
  },
  {
   "cell_type": "code",
   "execution_count": 1,
   "id": "4567c671",
   "metadata": {},
   "outputs": [],
   "source": [
    "import pickle\n",
    "import numpy as np\n",
    "from time import time\n",
    "from sympy import default_sort_key\n",
    "import matplotlib.pyplot as plt  \n",
    "from sklearn.svm import SVC\n",
    "from noisyopt import minimizeSPSA\n",
    "\n",
    "import warnings\n",
    "warnings.filterwarnings('ignore')  # Ignore warnings\n",
    "\n",
    "from discopy.tensor import Tensor\n",
    "from discopy.quantum import Circuit, Id, Measure\n",
    "\n",
    "from lambeq.ccg2discocat import DepCCGParser\n",
    "from lambeq.circuit import IQPAnsatz\n",
    "from lambeq.tensor import SpiderAnsatz\n",
    "from lambeq.core.types import AtomicType\n",
    "from lambeq.ansatz import Symbol\n",
    "\n",
    "from pytket.extensions.qiskit import AerBackend, IBMQBackend, IBMQEmulatorBackend\n",
    "\n",
    "plt.rcParams.update({'font.size': 18})\n",
    "\n",
    "SEED = 123\n",
    "np.random.seed(SEED)  # Fix the seed\n",
    "rng = np.random.default_rng(SEED)\n",
    "\n",
    "N = AtomicType.NOUN\n",
    "S = AtomicType.SENTENCE"
   ]
  },
  {
   "cell_type": "code",
   "execution_count": 2,
   "id": "473fb9a5",
   "metadata": {},
   "outputs": [],
   "source": [
    "def randint(rng, low=-1 << 63, high=1 << 63-1):\n",
    "    return rng.integers(low, high)\n",
    "\n",
    "def normalise(predictions):\n",
    "    # apply smoothing to predictions\n",
    "    predictions = np.abs(predictions) + 1e-9\n",
    "    return predictions / predictions.sum()\n",
    "\n",
    "def make_pred_fn(circuits, parameters, backend_config):\n",
    "    measured_circuits = [c >> Id().tensor(*[Measure()] * len(c.cod)) for c in circuits]\n",
    "    circuit_fns = [c.lambdify(*parameters) for c in measured_circuits]\n",
    "\n",
    "    def predict(params):\n",
    "        outputs = Circuit.eval(*(c_fn(*params) for c_fn in circuit_fns),\n",
    "                               **backend_config, seed=randint(rng))\n",
    "        print(outputs)\n",
    "        return np.array([normalise(output.array) for output in outputs])\n",
    "    return predict\n",
    "\n",
    "def make_cost_fn(pred_fn, labels):\n",
    "    def cost_fn(params, **kwargs):          \n",
    "        predictions = pred_fn(params)\n",
    "\n",
    "        cost = -np.sum(labels * np.log(predictions)) / len(labels)  # binary cross-entropy loss\n",
    "        costs.append(cost)\n",
    "\n",
    "        acc = np.sum(np.round(predictions) == labels) / len(labels) / 2  # half due to double-counting\n",
    "        accuracies.append(acc)\n",
    "\n",
    "        return cost\n",
    "\n",
    "    costs, accuracies = [], []\n",
    "    return cost_fn, costs, accuracies\n",
    "\n",
    "def make_callback(vocab, fname):\n",
    "    summary = {'vocab': vocab, 'count': 0}\n",
    "    def callback_fn(params, **kwargs):\n",
    "        summary['vals'] = params\n",
    "        summary['count'] += 1\n",
    "        save_weights(fname, **summary)\n",
    "        \n",
    "        # Display progess update (there is minimizeSPSA bug for disp kwarg) \n",
    "        if summary['count'] % 10 == 0:\n",
    "            print(f'Completed iteration: {summary[\"count\"]}')\n",
    "            \n",
    "    return callback_fn"
   ]
  },
  {
   "cell_type": "code",
   "execution_count": 96,
   "id": "7f9aeca9",
   "metadata": {},
   "outputs": [],
   "source": [
    "def plot_training_result(costs, accs):\n",
    "    fig = plt.figure(figsize=(8,6))\n",
    "    \n",
    "    ax1 = fig.add_axes([.2, .6, .6, .3])\n",
    "    ax1.plot(range(len(costs)), costs)\n",
    "    ax1.set_ylabel('Cost')\n",
    "    \n",
    "    ax2 = fig.add_axes([.2, .2, .6, .3])\n",
    "    ax2.plot(range(len(accs)), accs)\n",
    "    ax2.set_xlabel('Iteration')\n",
    "    ax2.set_ylabel('Accuracy')\n",
    "    \n",
    "    plt.show()\n",
    "\n",
    "\n",
    "def train_embedding(f_training, f_testing, f_save_weights='trained_embeddings.pkl', f_saved_param='', parser=None, ansatz=None, backend_config={}):\n",
    "    \n",
    "    # Load data\n",
    "    train_labels, train_data = read_data(f_training)\n",
    "    test_labels, test_data = read_data(f_testing)\n",
    "    \n",
    "    if parser is None:\n",
    "        parser = DepCCGParser(possible_root_cats=['S[dcl]'])\n",
    "    if ansatz is None:\n",
    "        ansatz = IQPAnsatz({N: 1, S: 1}, n_layers=1)\n",
    "    \n",
    "    # Build circuits\n",
    "    train_circs = build_circuits(train_data, parser, ansatz)\n",
    "    test_circs = build_circuits(test_data, parser, ansatz)\n",
    "    \n",
    "    # Get circuit parameters (vocabulary) and initial weights\n",
    "    if f_saved_param:\n",
    "        embedding = load_vocab(f_saved_param)\n",
    "        vocab = embedding['vocab']\n",
    "        x0 = embedding['vals']\n",
    "    else:\n",
    "        all_circuits = train_circs + test_circs\n",
    "        vocab = sorted(\n",
    "            {s for circ in all_circuits for s in circ.free_symbols},\n",
    "            key=default_sort_key\n",
    "        )\n",
    "        x0 = np.random.rand(len(vocab))\n",
    "    \n",
    "    train_pred_fn = make_pred_fn(train_circs, vocab, backend_config)\n",
    "    test_pred_fn = make_pred_fn(test_circs, vocab, backend_config)\n",
    "\n",
    "    train_cost_fn, train_costs, train_accs = make_cost_fn(train_pred_fn, train_labels)\n",
    "    callback = make_callback(vocab, f_save_weights)\n",
    "    \n",
    "    result = minimizeSPSA(train_cost_fn, x0=x0, a=0.2, c=0.06, niter=2, callback=callback)\n",
    "    \n",
    "    save_weights(f_save_weights, vocab=vocab, vals=list(result.x))\n",
    "    \n",
    "    plot_training_result(train_costs, train_accs)\n",
    "    \n",
    "    test_cost_fn, _, test_accs = make_cost_fn(test_pred_fn, test_labels)\n",
    "    test_cost_fn(result.x)\n",
    "    print('Test accuracy:', test_accs[0])"
   ]
  },
  {
   "cell_type": "code",
   "execution_count": 92,
   "id": "a1302a25",
   "metadata": {},
   "outputs": [],
   "source": [
    "def save_weights(fname, **kwargs):\n",
    "    with open('weights/'+fname, 'wb') as f:\n",
    "        pickle.dump(kwargs, f)"
   ]
  },
  {
   "cell_type": "code",
   "execution_count": 16,
   "id": "6b55efd1",
   "metadata": {},
   "outputs": [
    {
     "name": "stdout",
     "output_type": "stream",
     "text": [
      "{'vocab': ['sd', 'd', 'fd'], 'vals': [34, 3, 4]}\n",
      "{'vocab': ['sd', 'd', 'fd'], 'vals': [34, 3, 4]}\n"
     ]
    }
   ],
   "source": [
    "d = {'vocab':['sd','d','fd'], 'vals': [34,3,4]}\n",
    "\n",
    "save_weights('test.pkl', **d)\n",
    "print(load_vocab('test.pkl'))\n",
    "\n",
    "save_weights('test2.pkl', vocab=['sd','d','fd'], vals=[34,3,4])\n",
    "print(load_vocab('test2.pkl'))\n"
   ]
  },
  {
   "cell_type": "code",
   "execution_count": 98,
   "id": "f4be5600",
   "metadata": {},
   "outputs": [],
   "source": [
    "backend = AerBackend()\n",
    "backend_config = {\n",
    "    'backend': backend,\n",
    "    'compilation': backend.default_compilation_pass(2),\n",
    "    'n_shots': 2**13,\n",
    "}\n",
    "\n",
    "parser = DepCCGParser(possible_root_cats=['S[dcl]'])\n",
    "ansatz = IQPAnsatz({N: 1, S: 1}, n_layers=1)"
   ]
  },
  {
   "cell_type": "code",
   "execution_count": 97,
   "id": "edb10266",
   "metadata": {},
   "outputs": [
    {
     "name": "stderr",
     "output_type": "stream",
     "text": [
      "\n",
      "\n"
     ]
    },
    {
     "name": "stdout",
     "output_type": "stream",
     "text": [
      "[Tensor(dom=Dim(1), cod=Dim(2), array=[0.02758789, 0.0579834 ]), Tensor(dom=Dim(1), cod=Dim(2), array=[0.05505371, 0.0625  ]), Tensor(dom=Dim(1), cod=Dim(2), array=[0.00842285, 0.00610352]), Tensor(dom=Dim(1), cod=Dim(2), array=[0.01489258, 0.27697754]), Tensor(dom=Dim(1), cod=Dim(2), array=[0.02966309, 0.03710938]), Tensor(dom=Dim(1), cod=Dim(2), array=[0.01184082, 0.02856445]), Tensor(dom=Dim(1), cod=Dim(2), array=[0.18603516, 0.0345459 ]), Tensor(dom=Dim(1), cod=Dim(2), array=[0.05163574, 0.01086426]), Tensor(dom=Dim(1), cod=Dim(2), array=[0.08605957, 0.22399902]), Tensor(dom=Dim(1), cod=Dim(2), array=[0.21057129, 0.07507324]), Tensor(dom=Dim(1), cod=Dim(2), array=[0.00793457, 0.33837891]), Tensor(dom=Dim(1), cod=Dim(2), array=[0.16601562, 0.24694824]), Tensor(dom=Dim(1), cod=Dim(2), array=[0.00097656, 0.03125  ]), Tensor(dom=Dim(1), cod=Dim(2), array=[0.05505371, 0.09082031]), Tensor(dom=Dim(1), cod=Dim(2), array=[0.015625 , 0.00354004]), Tensor(dom=Dim(1), cod=Dim(2), array=[0.0135498 , 0.00256348]), Tensor(dom=Dim(1), cod=Dim(2), array=[0.10742188, 0.10180664]), Tensor(dom=Dim(1), cod=Dim(2), array=[0.38317871, 0.06640625]), Tensor(dom=Dim(1), cod=Dim(2), array=[0.36157227, 0.09338379]), Tensor(dom=Dim(1), cod=Dim(2), array=[0.02392578, 0.01525879]), Tensor(dom=Dim(1), cod=Dim(2), array=[0.07897949, 0.00061035]), Tensor(dom=Dim(1), cod=Dim(2), array=[0.08422852, 0.00036621]), Tensor(dom=Dim(1), cod=Dim(2), array=[0.20178223, 0.12695312]), Tensor(dom=Dim(1), cod=Dim(2), array=[0.08984375, 0.06665039]), Tensor(dom=Dim(1), cod=Dim(2), array=[0.04858398, 0.04846191]), Tensor(dom=Dim(1), cod=Dim(2), array=[0.02111816, 0.00671387]), Tensor(dom=Dim(1), cod=Dim(2), array=[0.31408691, 0.02539062]), Tensor(dom=Dim(1), cod=Dim(2), array=[0.00268555, 0.13342285]), Tensor(dom=Dim(1), cod=Dim(2), array=[0.15771484, 0.17053223]), Tensor(dom=Dim(1), cod=Dim(2), array=[0.02429199, 0.00415039]), Tensor(dom=Dim(1), cod=Dim(2), array=[0.09106445, 0.01171875]), Tensor(dom=Dim(1), cod=Dim(2), array=[0.0201416, 0.0748291]), Tensor(dom=Dim(1), cod=Dim(2), array=[0.00195312, 0.0168457 ]), Tensor(dom=Dim(1), cod=Dim(2), array=[0.00720215, 0.02246094]), Tensor(dom=Dim(1), cod=Dim(2), array=[0.16125488, 0.33325195]), Tensor(dom=Dim(1), cod=Dim(2), array=[0.20703125, 0.25805664]), Tensor(dom=Dim(1), cod=Dim(2), array=[0.07128906, 0.03100586]), Tensor(dom=Dim(1), cod=Dim(2), array=[0.00317383, 0.00415039]), Tensor(dom=Dim(1), cod=Dim(2), array=[0.24841309, 0.31433105]), Tensor(dom=Dim(1), cod=Dim(2), array=[0.01831055, 0.0177002 ]), Tensor(dom=Dim(1), cod=Dim(2), array=[0.28918457, 0.11328125]), Tensor(dom=Dim(1), cod=Dim(2), array=[0.17224121, 0.23193359]), Tensor(dom=Dim(1), cod=Dim(2), array=[0.14538574, 0.2935791 ]), Tensor(dom=Dim(1), cod=Dim(2), array=[0.20275879, 0.03540039]), Tensor(dom=Dim(1), cod=Dim(2), array=[0.32946777, 0.05664062]), Tensor(dom=Dim(1), cod=Dim(2), array=[0.06274414, 0.12011719]), Tensor(dom=Dim(1), cod=Dim(2), array=[0.08227539, 0.02172852]), Tensor(dom=Dim(1), cod=Dim(2), array=[0.25427246, 0.0098877 ]), Tensor(dom=Dim(1), cod=Dim(2), array=[0.21972656, 0.0402832 ]), Tensor(dom=Dim(1), cod=Dim(2), array=[0.14074707, 0.00183105]), Tensor(dom=Dim(1), cod=Dim(2), array=[0.0690918 , 0.20117188]), Tensor(dom=Dim(1), cod=Dim(2), array=[0.02331543, 0.02929688]), Tensor(dom=Dim(1), cod=Dim(2), array=[0.2520752 , 0.03894043]), Tensor(dom=Dim(1), cod=Dim(2), array=[0.00756836, 0.00463867]), Tensor(dom=Dim(1), cod=Dim(2), array=[0.38195801, 0.25817871]), Tensor(dom=Dim(1), cod=Dim(2), array=[0.06030273, 0.00622559]), Tensor(dom=Dim(1), cod=Dim(2), array=[0.01269531, 0.00170898]), Tensor(dom=Dim(1), cod=Dim(2), array=[0.15466309, 0.12646484]), Tensor(dom=Dim(1), cod=Dim(2), array=[0.08789062, 0.08215332]), Tensor(dom=Dim(1), cod=Dim(2), array=[0.20141602, 0.00354004]), Tensor(dom=Dim(1), cod=Dim(2), array=[0.06396484, 0.19226074]), Tensor(dom=Dim(1), cod=Dim(2), array=[0.2956543, 0.0168457]), Tensor(dom=Dim(1), cod=Dim(2), array=[0.01220703, 0.12475586]), Tensor(dom=Dim(1), cod=Dim(2), array=[0.01757812, 0.0020752 ]), Tensor(dom=Dim(1), cod=Dim(2), array=[0.00537109, 0.0123291 ]), Tensor(dom=Dim(1), cod=Dim(2), array=[0.13513184, 0.01257324]), Tensor(dom=Dim(1), cod=Dim(2), array=[0.1875  , 0.04541016]), Tensor(dom=Dim(1), cod=Dim(2), array=[0.0793457 , 0.09387207]), Tensor(dom=Dim(1), cod=Dim(2), array=[0.00708008, 0.07312012]), Tensor(dom=Dim(1), cod=Dim(2), array=[0.02001953, 0.00109863])]\n",
      "[Tensor(dom=Dim(1), cod=Dim(2), array=[0.05175781, 0.18347168]), Tensor(dom=Dim(1), cod=Dim(2), array=[0.05285645, 0.08605957]), Tensor(dom=Dim(1), cod=Dim(2), array=[0.01538086, 0.0267334 ]), Tensor(dom=Dim(1), cod=Dim(2), array=[0.03979492, 0.15576172]), Tensor(dom=Dim(1), cod=Dim(2), array=[0.05541992, 0.10131836]), Tensor(dom=Dim(1), cod=Dim(2), array=[0.02148438, 0.0032959 ]), Tensor(dom=Dim(1), cod=Dim(2), array=[0.29394531, 0.07983398]), Tensor(dom=Dim(1), cod=Dim(2), array=[0.03369141, 0.01049805]), Tensor(dom=Dim(1), cod=Dim(2), array=[0.02661133, 0.13842773]), Tensor(dom=Dim(1), cod=Dim(2), array=[0.06982422, 0.10571289]), Tensor(dom=Dim(1), cod=Dim(2), array=[0.04187012, 0.23937988]), Tensor(dom=Dim(1), cod=Dim(2), array=[0.06750488, 0.04260254]), Tensor(dom=Dim(1), cod=Dim(2), array=[0.00500488, 0.00952148]), Tensor(dom=Dim(1), cod=Dim(2), array=[0.01611328, 0.02331543]), Tensor(dom=Dim(1), cod=Dim(2), array=[0.05285645, 0.00061035]), Tensor(dom=Dim(1), cod=Dim(2), array=[0.03552246, 0.00219727]), Tensor(dom=Dim(1), cod=Dim(2), array=[0.00598145, 0.03466797]), Tensor(dom=Dim(1), cod=Dim(2), array=[0.31542969, 0.06164551]), Tensor(dom=Dim(1), cod=Dim(2), array=[0.19995117, 0.00109863]), Tensor(dom=Dim(1), cod=Dim(2), array=[0.0012207 , 0.14733887]), Tensor(dom=Dim(1), cod=Dim(2), array=[0.04980469, 0.00073242]), Tensor(dom=Dim(1), cod=Dim(2), array=[0.03552246, 0.00695801]), Tensor(dom=Dim(1), cod=Dim(2), array=[0.1517334 , 0.18530273]), Tensor(dom=Dim(1), cod=Dim(2), array=[0.02978516, 0.0222168 ]), Tensor(dom=Dim(1), cod=Dim(2), array=[0.0916748 , 0.19970703]), Tensor(dom=Dim(1), cod=Dim(2), array=[0.00244141, 0.00085449]), Tensor(dom=Dim(1), cod=Dim(2), array=[0.13793945, 0.08557129]), Tensor(dom=Dim(1), cod=Dim(2), array=[0.02355957, 0.18774414]), Tensor(dom=Dim(1), cod=Dim(2), array=[0.01049805, 0.11694336]), Tensor(dom=Dim(1), cod=Dim(2), array=[0.00073242, 0.00646973]), Tensor(dom=Dim(1), cod=Dim(2), array=[0.01489258, 0.01184082]), Tensor(dom=Dim(1), cod=Dim(2), array=[0.00488281, 0.04821777]), Tensor(dom=Dim(1), cod=Dim(2), array=[0.01940918, 0.01013184]), Tensor(dom=Dim(1), cod=Dim(2), array=[0.01989746, 0.06433105]), Tensor(dom=Dim(1), cod=Dim(2), array=[0.05236816, 0.17858887]), Tensor(dom=Dim(1), cod=Dim(2), array=[0.11975098, 0.19494629]), Tensor(dom=Dim(1), cod=Dim(2), array=[0.25671387, 0.2355957 ]), Tensor(dom=Dim(1), cod=Dim(2), array=[0.03344727, 0.05114746]), Tensor(dom=Dim(1), cod=Dim(2), array=[0.13891602, 0.28759766]), Tensor(dom=Dim(1), cod=Dim(2), array=[0.04052734, 0.04064941]), Tensor(dom=Dim(1), cod=Dim(2), array=[0.16162109, 0.02404785]), Tensor(dom=Dim(1), cod=Dim(2), array=[0.05578613, 0.08752441]), Tensor(dom=Dim(1), cod=Dim(2), array=[0.05078125, 0.24645996]), Tensor(dom=Dim(1), cod=Dim(2), array=[0.09057617, 0.00097656]), Tensor(dom=Dim(1), cod=Dim(2), array=[0.10852051, 0.06359863]), Tensor(dom=Dim(1), cod=Dim(2), array=[0.03979492, 0.11364746]), Tensor(dom=Dim(1), cod=Dim(2), array=[0.3293457 , 0.13146973]), Tensor(dom=Dim(1), cod=Dim(2), array=[0.29833984, 0.078125 ]), Tensor(dom=Dim(1), cod=Dim(2), array=[0.35705566, 0.11938477]), Tensor(dom=Dim(1), cod=Dim(2), array=[0.05249023, 0.00585938]), Tensor(dom=Dim(1), cod=Dim(2), array=[0.02819824, 0.02624512]), Tensor(dom=Dim(1), cod=Dim(2), array=[0.04052734, 0.1673584 ]), Tensor(dom=Dim(1), cod=Dim(2), array=[0.37927246, 0.00915527]), Tensor(dom=Dim(1), cod=Dim(2), array=[0.01403809, 0.03857422]), Tensor(dom=Dim(1), cod=Dim(2), array=[0.44555664, 0.04284668]), Tensor(dom=Dim(1), cod=Dim(2), array=[0.02868652, 0.03173828]), Tensor(dom=Dim(1), cod=Dim(2), array=[0.05627441, 0.0234375 ]), Tensor(dom=Dim(1), cod=Dim(2), array=[0.14331055, 0.29345703]), Tensor(dom=Dim(1), cod=Dim(2), array=[0.26672363, 0.24853516]), Tensor(dom=Dim(1), cod=Dim(2), array=[0.07299805, 0.01623535]), Tensor(dom=Dim(1), cod=Dim(2), array=[0.00500488, 0.04382324]), Tensor(dom=Dim(1), cod=Dim(2), array=[0.13635254, 0.05200195]), Tensor(dom=Dim(1), cod=Dim(2), array=[0.00085449, 0.0111084 ]), Tensor(dom=Dim(1), cod=Dim(2), array=[0.04663086, 0.00183105]), Tensor(dom=Dim(1), cod=Dim(2), array=[0.03674316, 0.0333252 ]), Tensor(dom=Dim(1), cod=Dim(2), array=[0.06201172, 0.08056641]), Tensor(dom=Dim(1), cod=Dim(2), array=[0.08215332, 0.0045166 ]), Tensor(dom=Dim(1), cod=Dim(2), array=[0.08410645, 0.12915039]), Tensor(dom=Dim(1), cod=Dim(2), array=[0.02783203, 0.00598145]), Tensor(dom=Dim(1), cod=Dim(2), array=[0.00219727, 0.00317383])]\n"
     ]
    },
    {
     "ename": "KeyboardInterrupt",
     "evalue": "",
     "output_type": "error",
     "traceback": [
      "\u001b[0;31m---------------------------------------------------------------------------\u001b[0m",
      "\u001b[0;31mKeyboardInterrupt\u001b[0m                         Traceback (most recent call last)",
      "\u001b[0;32m/tmp/ipykernel_3216/468454558.py\u001b[0m in \u001b[0;36m<module>\u001b[0;34m\u001b[0m\n\u001b[0;32m----> 1\u001b[0;31m train_embedding('data/mc_train_data.txt', 'data/mc_test_data.txt', 't.pkl',\n\u001b[0m\u001b[1;32m      2\u001b[0m                 parser=parser, ansatz=ansatz, backend_config=backend_config)\n",
      "\u001b[0;32m/tmp/ipykernel_3216/2218767624.py\u001b[0m in \u001b[0;36mtrain_embedding\u001b[0;34m(f_training, f_testing, f_save_weights, f_saved_param, parser, ansatz, backend_config)\u001b[0m\n\u001b[1;32m     48\u001b[0m     \u001b[0mcallback\u001b[0m \u001b[0;34m=\u001b[0m \u001b[0mmake_callback\u001b[0m\u001b[0;34m(\u001b[0m\u001b[0mvocab\u001b[0m\u001b[0;34m,\u001b[0m \u001b[0mf_save_weights\u001b[0m\u001b[0;34m)\u001b[0m\u001b[0;34m\u001b[0m\u001b[0;34m\u001b[0m\u001b[0m\n\u001b[1;32m     49\u001b[0m \u001b[0;34m\u001b[0m\u001b[0m\n\u001b[0;32m---> 50\u001b[0;31m     \u001b[0mresult\u001b[0m \u001b[0;34m=\u001b[0m \u001b[0mminimizeSPSA\u001b[0m\u001b[0;34m(\u001b[0m\u001b[0mtrain_cost_fn\u001b[0m\u001b[0;34m,\u001b[0m \u001b[0mx0\u001b[0m\u001b[0;34m=\u001b[0m\u001b[0mx0\u001b[0m\u001b[0;34m,\u001b[0m \u001b[0ma\u001b[0m\u001b[0;34m=\u001b[0m\u001b[0;36m0.2\u001b[0m\u001b[0;34m,\u001b[0m \u001b[0mc\u001b[0m\u001b[0;34m=\u001b[0m\u001b[0;36m0.06\u001b[0m\u001b[0;34m,\u001b[0m \u001b[0mniter\u001b[0m\u001b[0;34m=\u001b[0m\u001b[0;36m2\u001b[0m\u001b[0;34m,\u001b[0m \u001b[0mcallback\u001b[0m\u001b[0;34m=\u001b[0m\u001b[0mcallback\u001b[0m\u001b[0;34m)\u001b[0m\u001b[0;34m\u001b[0m\u001b[0;34m\u001b[0m\u001b[0m\n\u001b[0m\u001b[1;32m     51\u001b[0m \u001b[0;34m\u001b[0m\u001b[0m\n\u001b[1;32m     52\u001b[0m     \u001b[0msave_weights\u001b[0m\u001b[0;34m(\u001b[0m\u001b[0mf_save_weights\u001b[0m\u001b[0;34m,\u001b[0m \u001b[0mvocab\u001b[0m\u001b[0;34m=\u001b[0m\u001b[0mvocab\u001b[0m\u001b[0;34m,\u001b[0m \u001b[0mvals\u001b[0m\u001b[0;34m=\u001b[0m\u001b[0mlist\u001b[0m\u001b[0;34m(\u001b[0m\u001b[0mresult\u001b[0m\u001b[0;34m.\u001b[0m\u001b[0mx\u001b[0m\u001b[0;34m)\u001b[0m\u001b[0;34m)\u001b[0m\u001b[0;34m\u001b[0m\u001b[0;34m\u001b[0m\u001b[0m\n",
      "\u001b[0;32m~/.local/lib/python3.8/site-packages/noisyopt/main.py\u001b[0m in \u001b[0;36mminimizeSPSA\u001b[0;34m(func, x0, args, bounds, niter, paired, a, c, disp, callback)\u001b[0m\n\u001b[1;32m    318\u001b[0m             \u001b[0mfkwargs\u001b[0m\u001b[0;34m[\u001b[0m\u001b[0;34m'seed'\u001b[0m\u001b[0;34m]\u001b[0m \u001b[0;34m=\u001b[0m \u001b[0mnp\u001b[0m\u001b[0;34m.\u001b[0m\u001b[0mrandom\u001b[0m\u001b[0;34m.\u001b[0m\u001b[0mrandint\u001b[0m\u001b[0;34m(\u001b[0m\u001b[0;36m0\u001b[0m\u001b[0;34m,\u001b[0m \u001b[0mnp\u001b[0m\u001b[0;34m.\u001b[0m\u001b[0miinfo\u001b[0m\u001b[0;34m(\u001b[0m\u001b[0mnp\u001b[0m\u001b[0;34m.\u001b[0m\u001b[0muint32\u001b[0m\u001b[0;34m)\u001b[0m\u001b[0;34m.\u001b[0m\u001b[0mmax\u001b[0m\u001b[0;34m)\u001b[0m\u001b[0;34m\u001b[0m\u001b[0;34m\u001b[0m\u001b[0m\n\u001b[1;32m    319\u001b[0m         \u001b[0;32mif\u001b[0m \u001b[0mbounds\u001b[0m \u001b[0;32mis\u001b[0m \u001b[0;32mNone\u001b[0m\u001b[0;34m:\u001b[0m\u001b[0;34m\u001b[0m\u001b[0;34m\u001b[0m\u001b[0m\n\u001b[0;32m--> 320\u001b[0;31m             \u001b[0mgrad\u001b[0m \u001b[0;34m=\u001b[0m \u001b[0;34m(\u001b[0m\u001b[0mfuncf\u001b[0m\u001b[0;34m(\u001b[0m\u001b[0mx\u001b[0m \u001b[0;34m+\u001b[0m \u001b[0mck\u001b[0m\u001b[0;34m*\u001b[0m\u001b[0mdelta\u001b[0m\u001b[0;34m,\u001b[0m \u001b[0;34m**\u001b[0m\u001b[0mfkwargs\u001b[0m\u001b[0;34m)\u001b[0m \u001b[0;34m-\u001b[0m \u001b[0mfuncf\u001b[0m\u001b[0;34m(\u001b[0m\u001b[0mx\u001b[0m \u001b[0;34m-\u001b[0m \u001b[0mck\u001b[0m\u001b[0;34m*\u001b[0m\u001b[0mdelta\u001b[0m\u001b[0;34m,\u001b[0m \u001b[0;34m**\u001b[0m\u001b[0mfkwargs\u001b[0m\u001b[0;34m)\u001b[0m\u001b[0;34m)\u001b[0m \u001b[0;34m/\u001b[0m \u001b[0;34m(\u001b[0m\u001b[0;36m2\u001b[0m\u001b[0;34m*\u001b[0m\u001b[0mck\u001b[0m\u001b[0;34m*\u001b[0m\u001b[0mdelta\u001b[0m\u001b[0;34m)\u001b[0m\u001b[0;34m\u001b[0m\u001b[0;34m\u001b[0m\u001b[0m\n\u001b[0m\u001b[1;32m    321\u001b[0m         \u001b[0;32melse\u001b[0m\u001b[0;34m:\u001b[0m\u001b[0;34m\u001b[0m\u001b[0;34m\u001b[0m\u001b[0m\n\u001b[1;32m    322\u001b[0m             \u001b[0;31m# ensure evaluation points are feasible\u001b[0m\u001b[0;34m\u001b[0m\u001b[0;34m\u001b[0m\u001b[0;34m\u001b[0m\u001b[0m\n",
      "\u001b[0;32m~/.local/lib/python3.8/site-packages/noisyopt/main.py\u001b[0m in \u001b[0;36mfuncf\u001b[0;34m(x, **kwargs)\u001b[0m\n\u001b[1;32m    306\u001b[0m         \u001b[0;31m# freeze function arguments\u001b[0m\u001b[0;34m\u001b[0m\u001b[0;34m\u001b[0m\u001b[0;34m\u001b[0m\u001b[0m\n\u001b[1;32m    307\u001b[0m         \u001b[0;32mdef\u001b[0m \u001b[0mfuncf\u001b[0m\u001b[0;34m(\u001b[0m\u001b[0mx\u001b[0m\u001b[0;34m,\u001b[0m \u001b[0;34m**\u001b[0m\u001b[0mkwargs\u001b[0m\u001b[0;34m)\u001b[0m\u001b[0;34m:\u001b[0m\u001b[0;34m\u001b[0m\u001b[0;34m\u001b[0m\u001b[0m\n\u001b[0;32m--> 308\u001b[0;31m             \u001b[0;32mreturn\u001b[0m \u001b[0mfunc\u001b[0m\u001b[0;34m(\u001b[0m\u001b[0mx\u001b[0m\u001b[0;34m,\u001b[0m \u001b[0;34m*\u001b[0m\u001b[0margs\u001b[0m\u001b[0;34m,\u001b[0m \u001b[0;34m**\u001b[0m\u001b[0mkwargs\u001b[0m\u001b[0;34m)\u001b[0m\u001b[0;34m\u001b[0m\u001b[0;34m\u001b[0m\u001b[0m\n\u001b[0m\u001b[1;32m    309\u001b[0m \u001b[0;34m\u001b[0m\u001b[0m\n\u001b[1;32m    310\u001b[0m     \u001b[0mN\u001b[0m \u001b[0;34m=\u001b[0m \u001b[0mlen\u001b[0m\u001b[0;34m(\u001b[0m\u001b[0mx0\u001b[0m\u001b[0;34m)\u001b[0m\u001b[0;34m\u001b[0m\u001b[0;34m\u001b[0m\u001b[0m\n",
      "\u001b[0;32m/tmp/ipykernel_3216/765226156.py\u001b[0m in \u001b[0;36mcost_fn\u001b[0;34m(params, **kwargs)\u001b[0m\n\u001b[1;32m     20\u001b[0m \u001b[0;32mdef\u001b[0m \u001b[0mmake_cost_fn\u001b[0m\u001b[0;34m(\u001b[0m\u001b[0mpred_fn\u001b[0m\u001b[0;34m,\u001b[0m \u001b[0mlabels\u001b[0m\u001b[0;34m)\u001b[0m\u001b[0;34m:\u001b[0m\u001b[0;34m\u001b[0m\u001b[0;34m\u001b[0m\u001b[0m\n\u001b[1;32m     21\u001b[0m     \u001b[0;32mdef\u001b[0m \u001b[0mcost_fn\u001b[0m\u001b[0;34m(\u001b[0m\u001b[0mparams\u001b[0m\u001b[0;34m,\u001b[0m \u001b[0;34m**\u001b[0m\u001b[0mkwargs\u001b[0m\u001b[0;34m)\u001b[0m\u001b[0;34m:\u001b[0m\u001b[0;34m\u001b[0m\u001b[0;34m\u001b[0m\u001b[0m\n\u001b[0;32m---> 22\u001b[0;31m         \u001b[0mpredictions\u001b[0m \u001b[0;34m=\u001b[0m \u001b[0mpred_fn\u001b[0m\u001b[0;34m(\u001b[0m\u001b[0mparams\u001b[0m\u001b[0;34m)\u001b[0m\u001b[0;34m\u001b[0m\u001b[0;34m\u001b[0m\u001b[0m\n\u001b[0m\u001b[1;32m     23\u001b[0m \u001b[0;34m\u001b[0m\u001b[0m\n\u001b[1;32m     24\u001b[0m         \u001b[0mcost\u001b[0m \u001b[0;34m=\u001b[0m \u001b[0;34m-\u001b[0m\u001b[0mnp\u001b[0m\u001b[0;34m.\u001b[0m\u001b[0msum\u001b[0m\u001b[0;34m(\u001b[0m\u001b[0mlabels\u001b[0m \u001b[0;34m*\u001b[0m \u001b[0mnp\u001b[0m\u001b[0;34m.\u001b[0m\u001b[0mlog\u001b[0m\u001b[0;34m(\u001b[0m\u001b[0mpredictions\u001b[0m\u001b[0;34m)\u001b[0m\u001b[0;34m)\u001b[0m \u001b[0;34m/\u001b[0m \u001b[0mlen\u001b[0m\u001b[0;34m(\u001b[0m\u001b[0mlabels\u001b[0m\u001b[0;34m)\u001b[0m  \u001b[0;31m# binary cross-entropy loss\u001b[0m\u001b[0;34m\u001b[0m\u001b[0;34m\u001b[0m\u001b[0m\n",
      "\u001b[0;32m/tmp/ipykernel_3216/765226156.py\u001b[0m in \u001b[0;36mpredict\u001b[0;34m(params)\u001b[0m\n\u001b[1;32m     12\u001b[0m \u001b[0;34m\u001b[0m\u001b[0m\n\u001b[1;32m     13\u001b[0m     \u001b[0;32mdef\u001b[0m \u001b[0mpredict\u001b[0m\u001b[0;34m(\u001b[0m\u001b[0mparams\u001b[0m\u001b[0;34m)\u001b[0m\u001b[0;34m:\u001b[0m\u001b[0;34m\u001b[0m\u001b[0;34m\u001b[0m\u001b[0m\n\u001b[0;32m---> 14\u001b[0;31m         outputs = Circuit.eval(*(c_fn(*params) for c_fn in circuit_fns),\n\u001b[0m\u001b[1;32m     15\u001b[0m                                **backend_config, seed=randint(rng))\n\u001b[1;32m     16\u001b[0m         \u001b[0mprint\u001b[0m\u001b[0;34m(\u001b[0m\u001b[0moutputs\u001b[0m\u001b[0;34m)\u001b[0m\u001b[0;34m\u001b[0m\u001b[0;34m\u001b[0m\u001b[0m\n",
      "\u001b[0;32m~/.local/lib/python3.8/site-packages/discopy/quantum/circuit.py\u001b[0m in \u001b[0;36meval\u001b[0;34m(self, backend, mixed, *others, **params)\u001b[0m\n\u001b[1;32m    272\u001b[0m             \u001b[0;32mreturn\u001b[0m \u001b[0mfunctor\u001b[0m\u001b[0;34m(\u001b[0m\u001b[0mself\u001b[0m\u001b[0;34m)\u001b[0m\u001b[0;34m\u001b[0m\u001b[0;34m\u001b[0m\u001b[0m\n\u001b[1;32m    273\u001b[0m         \u001b[0mcircuits\u001b[0m \u001b[0;34m=\u001b[0m \u001b[0;34m[\u001b[0m\u001b[0mcircuit\u001b[0m\u001b[0;34m.\u001b[0m\u001b[0mto_tk\u001b[0m\u001b[0;34m(\u001b[0m\u001b[0;34m)\u001b[0m \u001b[0;32mfor\u001b[0m \u001b[0mcircuit\u001b[0m \u001b[0;32min\u001b[0m \u001b[0;34m(\u001b[0m\u001b[0mself\u001b[0m\u001b[0;34m,\u001b[0m \u001b[0;34m)\u001b[0m \u001b[0;34m+\u001b[0m \u001b[0mothers\u001b[0m\u001b[0;34m]\u001b[0m\u001b[0;34m\u001b[0m\u001b[0;34m\u001b[0m\u001b[0m\n\u001b[0;32m--> 274\u001b[0;31m         results, counts = [], circuits[0].get_counts(\n\u001b[0m\u001b[1;32m    275\u001b[0m             *circuits[1:], backend=backend, **params)\n\u001b[1;32m    276\u001b[0m         \u001b[0;32mfor\u001b[0m \u001b[0mi\u001b[0m\u001b[0;34m,\u001b[0m \u001b[0mcircuit\u001b[0m \u001b[0;32min\u001b[0m \u001b[0menumerate\u001b[0m\u001b[0;34m(\u001b[0m\u001b[0mcircuits\u001b[0m\u001b[0;34m)\u001b[0m\u001b[0;34m:\u001b[0m\u001b[0;34m\u001b[0m\u001b[0;34m\u001b[0m\u001b[0m\n",
      "\u001b[0;32m~/.local/lib/python3.8/site-packages/discopy/quantum/tk.py\u001b[0m in \u001b[0;36mget_counts\u001b[0;34m(self, backend, *others, **params)\u001b[0m\n\u001b[1;32m    113\u001b[0m             \u001b[0;32mfor\u001b[0m \u001b[0mcircuit\u001b[0m \u001b[0;32min\u001b[0m \u001b[0;34m(\u001b[0m\u001b[0mself\u001b[0m\u001b[0;34m,\u001b[0m \u001b[0;34m)\u001b[0m \u001b[0;34m+\u001b[0m \u001b[0mothers\u001b[0m\u001b[0;34m:\u001b[0m\u001b[0;34m\u001b[0m\u001b[0;34m\u001b[0m\u001b[0m\n\u001b[1;32m    114\u001b[0m                 \u001b[0mcompilation\u001b[0m\u001b[0;34m.\u001b[0m\u001b[0mapply\u001b[0m\u001b[0;34m(\u001b[0m\u001b[0mcircuit\u001b[0m\u001b[0;34m)\u001b[0m\u001b[0;34m\u001b[0m\u001b[0;34m\u001b[0m\u001b[0m\n\u001b[0;32m--> 115\u001b[0;31m         handles = backend.process_circuits(\n\u001b[0m\u001b[1;32m    116\u001b[0m             (self, ) + others, n_shots=n_shots, seed=seed)\n\u001b[1;32m    117\u001b[0m         \u001b[0mcounts\u001b[0m \u001b[0;34m=\u001b[0m \u001b[0;34m[\u001b[0m\u001b[0mbackend\u001b[0m\u001b[0;34m.\u001b[0m\u001b[0mget_result\u001b[0m\u001b[0;34m(\u001b[0m\u001b[0mh\u001b[0m\u001b[0;34m)\u001b[0m\u001b[0;34m.\u001b[0m\u001b[0mget_counts\u001b[0m\u001b[0;34m(\u001b[0m\u001b[0;34m)\u001b[0m \u001b[0;32mfor\u001b[0m \u001b[0mh\u001b[0m \u001b[0;32min\u001b[0m \u001b[0mhandles\u001b[0m\u001b[0;34m]\u001b[0m\u001b[0;34m\u001b[0m\u001b[0;34m\u001b[0m\u001b[0m\n",
      "\u001b[0;32m~/.local/lib/python3.8/site-packages/pytket/extensions/qiskit/backends/aer.py\u001b[0m in \u001b[0;36mprocess_circuits\u001b[0;34m(self, circuits, n_shots, valid_check, **kwargs)\u001b[0m\n\u001b[1;32m    531\u001b[0m             \u001b[0moptional\u001b[0m\u001b[0;34m=\u001b[0m\u001b[0;32mFalse\u001b[0m\u001b[0;34m,\u001b[0m\u001b[0;34m\u001b[0m\u001b[0;34m\u001b[0m\u001b[0m\n\u001b[1;32m    532\u001b[0m         )\n\u001b[0;32m--> 533\u001b[0;31m         \u001b[0;32mreturn\u001b[0m \u001b[0msuper\u001b[0m\u001b[0;34m(\u001b[0m\u001b[0;34m)\u001b[0m\u001b[0;34m.\u001b[0m\u001b[0mprocess_circuits\u001b[0m\u001b[0;34m(\u001b[0m\u001b[0mcircuits\u001b[0m\u001b[0;34m,\u001b[0m \u001b[0mn_shots\u001b[0m\u001b[0;34m,\u001b[0m \u001b[0mvalid_check\u001b[0m\u001b[0;34m,\u001b[0m \u001b[0;34m**\u001b[0m\u001b[0mkwargs\u001b[0m\u001b[0;34m)\u001b[0m\u001b[0;34m\u001b[0m\u001b[0;34m\u001b[0m\u001b[0m\n\u001b[0m\u001b[1;32m    534\u001b[0m \u001b[0;34m\u001b[0m\u001b[0m\n\u001b[1;32m    535\u001b[0m     def get_pauli_expectation_value(\n",
      "\u001b[0;32m~/.local/lib/python3.8/site-packages/pytket/extensions/qiskit/backends/aer.py\u001b[0m in \u001b[0;36mprocess_circuits\u001b[0;34m(self, circuits, n_shots, valid_check, **kwargs)\u001b[0m\n\u001b[1;32m    176\u001b[0m \u001b[0;34m\u001b[0m\u001b[0m\n\u001b[1;32m    177\u001b[0m         \u001b[0;32mfor\u001b[0m \u001b[0;34m(\u001b[0m\u001b[0mn_shots\u001b[0m\u001b[0;34m,\u001b[0m \u001b[0mbatch\u001b[0m\u001b[0;34m)\u001b[0m\u001b[0;34m,\u001b[0m \u001b[0mindices\u001b[0m \u001b[0;32min\u001b[0m \u001b[0mzip\u001b[0m\u001b[0;34m(\u001b[0m\u001b[0mcircuit_batches\u001b[0m\u001b[0;34m,\u001b[0m \u001b[0mbatch_order\u001b[0m\u001b[0;34m)\u001b[0m\u001b[0;34m:\u001b[0m\u001b[0;34m\u001b[0m\u001b[0;34m\u001b[0m\u001b[0m\n\u001b[0;32m--> 178\u001b[0;31m             \u001b[0mqcs\u001b[0m \u001b[0;34m=\u001b[0m \u001b[0;34m[\u001b[0m\u001b[0mtk_to_qiskit\u001b[0m\u001b[0;34m(\u001b[0m\u001b[0mtkc\u001b[0m\u001b[0;34m)\u001b[0m \u001b[0;32mfor\u001b[0m \u001b[0mtkc\u001b[0m \u001b[0;32min\u001b[0m \u001b[0mbatch\u001b[0m\u001b[0;34m]\u001b[0m\u001b[0;34m\u001b[0m\u001b[0;34m\u001b[0m\u001b[0m\n\u001b[0m\u001b[1;32m    179\u001b[0m             \u001b[0;32mif\u001b[0m \u001b[0mself\u001b[0m\u001b[0;34m.\u001b[0m\u001b[0m_backend_info\u001b[0m\u001b[0;34m.\u001b[0m\u001b[0mdevice_name\u001b[0m \u001b[0;34m==\u001b[0m \u001b[0;34m\"aer_simulator_statevector\"\u001b[0m\u001b[0;34m:\u001b[0m\u001b[0;34m\u001b[0m\u001b[0;34m\u001b[0m\u001b[0m\n\u001b[1;32m    180\u001b[0m                 \u001b[0;32mfor\u001b[0m \u001b[0mqc\u001b[0m \u001b[0;32min\u001b[0m \u001b[0mqcs\u001b[0m\u001b[0;34m:\u001b[0m\u001b[0;34m\u001b[0m\u001b[0;34m\u001b[0m\u001b[0m\n",
      "\u001b[0;32m~/.local/lib/python3.8/site-packages/pytket/extensions/qiskit/backends/aer.py\u001b[0m in \u001b[0;36m<listcomp>\u001b[0;34m(.0)\u001b[0m\n\u001b[1;32m    176\u001b[0m \u001b[0;34m\u001b[0m\u001b[0m\n\u001b[1;32m    177\u001b[0m         \u001b[0;32mfor\u001b[0m \u001b[0;34m(\u001b[0m\u001b[0mn_shots\u001b[0m\u001b[0;34m,\u001b[0m \u001b[0mbatch\u001b[0m\u001b[0;34m)\u001b[0m\u001b[0;34m,\u001b[0m \u001b[0mindices\u001b[0m \u001b[0;32min\u001b[0m \u001b[0mzip\u001b[0m\u001b[0;34m(\u001b[0m\u001b[0mcircuit_batches\u001b[0m\u001b[0;34m,\u001b[0m \u001b[0mbatch_order\u001b[0m\u001b[0;34m)\u001b[0m\u001b[0;34m:\u001b[0m\u001b[0;34m\u001b[0m\u001b[0;34m\u001b[0m\u001b[0m\n\u001b[0;32m--> 178\u001b[0;31m             \u001b[0mqcs\u001b[0m \u001b[0;34m=\u001b[0m \u001b[0;34m[\u001b[0m\u001b[0mtk_to_qiskit\u001b[0m\u001b[0;34m(\u001b[0m\u001b[0mtkc\u001b[0m\u001b[0;34m)\u001b[0m \u001b[0;32mfor\u001b[0m \u001b[0mtkc\u001b[0m \u001b[0;32min\u001b[0m \u001b[0mbatch\u001b[0m\u001b[0;34m]\u001b[0m\u001b[0;34m\u001b[0m\u001b[0;34m\u001b[0m\u001b[0m\n\u001b[0m\u001b[1;32m    179\u001b[0m             \u001b[0;32mif\u001b[0m \u001b[0mself\u001b[0m\u001b[0;34m.\u001b[0m\u001b[0m_backend_info\u001b[0m\u001b[0;34m.\u001b[0m\u001b[0mdevice_name\u001b[0m \u001b[0;34m==\u001b[0m \u001b[0;34m\"aer_simulator_statevector\"\u001b[0m\u001b[0;34m:\u001b[0m\u001b[0;34m\u001b[0m\u001b[0;34m\u001b[0m\u001b[0m\n\u001b[1;32m    180\u001b[0m                 \u001b[0;32mfor\u001b[0m \u001b[0mqc\u001b[0m \u001b[0;32min\u001b[0m \u001b[0mqcs\u001b[0m\u001b[0;34m:\u001b[0m\u001b[0;34m\u001b[0m\u001b[0;34m\u001b[0m\u001b[0m\n",
      "\u001b[0;32m~/.local/lib/python3.8/site-packages/pytket/extensions/qiskit/qiskit_convert.py\u001b[0m in \u001b[0;36mtk_to_qiskit\u001b[0;34m(tkcirc)\u001b[0m\n\u001b[1;32m    535\u001b[0m     \u001b[0mrange_preds\u001b[0m\u001b[0;34m:\u001b[0m \u001b[0mDict\u001b[0m\u001b[0;34m[\u001b[0m\u001b[0mBit\u001b[0m\u001b[0;34m,\u001b[0m \u001b[0mTuple\u001b[0m\u001b[0;34m[\u001b[0m\u001b[0mList\u001b[0m\u001b[0;34m[\u001b[0m\u001b[0;34m\"UnitID\"\u001b[0m\u001b[0;34m]\u001b[0m\u001b[0;34m,\u001b[0m \u001b[0mint\u001b[0m\u001b[0;34m]\u001b[0m\u001b[0;34m]\u001b[0m \u001b[0;34m=\u001b[0m \u001b[0mdict\u001b[0m\u001b[0;34m(\u001b[0m\u001b[0;34m)\u001b[0m\u001b[0;34m\u001b[0m\u001b[0;34m\u001b[0m\u001b[0m\n\u001b[1;32m    536\u001b[0m     \u001b[0;32mfor\u001b[0m \u001b[0mcommand\u001b[0m \u001b[0;32min\u001b[0m \u001b[0mtkc\u001b[0m\u001b[0;34m:\u001b[0m\u001b[0;34m\u001b[0m\u001b[0;34m\u001b[0m\u001b[0m\n\u001b[0;32m--> 537\u001b[0;31m         append_tk_command_to_qiskit(\n\u001b[0m\u001b[1;32m    538\u001b[0m             \u001b[0mcommand\u001b[0m\u001b[0;34m.\u001b[0m\u001b[0mop\u001b[0m\u001b[0;34m,\u001b[0m \u001b[0mcommand\u001b[0m\u001b[0;34m.\u001b[0m\u001b[0margs\u001b[0m\u001b[0;34m,\u001b[0m \u001b[0mqcirc\u001b[0m\u001b[0;34m,\u001b[0m \u001b[0mqregmap\u001b[0m\u001b[0;34m,\u001b[0m \u001b[0mcregmap\u001b[0m\u001b[0;34m,\u001b[0m \u001b[0msymb_map\u001b[0m\u001b[0;34m,\u001b[0m \u001b[0mrange_preds\u001b[0m\u001b[0;34m\u001b[0m\u001b[0;34m\u001b[0m\u001b[0m\n\u001b[1;32m    539\u001b[0m         )\n",
      "\u001b[0;32m~/.local/lib/python3.8/site-packages/pytket/extensions/qiskit/qiskit_convert.py\u001b[0m in \u001b[0;36mappend_tk_command_to_qiskit\u001b[0;34m(op, args, qcirc, qregmap, cregmap, symb_map, range_preds)\u001b[0m\n\u001b[1;32m    482\u001b[0m         )\n\u001b[1;32m    483\u001b[0m         \u001b[0mqcirc\u001b[0m\u001b[0;34m.\u001b[0m\u001b[0mglobal_phase\u001b[0m \u001b[0;34m+=\u001b[0m \u001b[0;34m-\u001b[0m\u001b[0mparams\u001b[0m\u001b[0;34m[\u001b[0m\u001b[0;36m0\u001b[0m\u001b[0;34m]\u001b[0m \u001b[0;34m/\u001b[0m \u001b[0;36m2\u001b[0m \u001b[0;34m-\u001b[0m \u001b[0mparams\u001b[0m\u001b[0;34m[\u001b[0m\u001b[0;36m2\u001b[0m\u001b[0;34m]\u001b[0m \u001b[0;34m/\u001b[0m \u001b[0;36m2\u001b[0m\u001b[0;34m\u001b[0m\u001b[0;34m\u001b[0m\u001b[0m\n\u001b[0;32m--> 484\u001b[0;31m         \u001b[0;32mreturn\u001b[0m \u001b[0mqcirc\u001b[0m\u001b[0;34m.\u001b[0m\u001b[0mto_instruction\u001b[0m\u001b[0;34m(\u001b[0m\u001b[0;34m)\u001b[0m\u001b[0;34m\u001b[0m\u001b[0;34m\u001b[0m\u001b[0m\n\u001b[0m\u001b[1;32m    485\u001b[0m     \u001b[0;31m# others are direct translations\u001b[0m\u001b[0;34m\u001b[0m\u001b[0;34m\u001b[0m\u001b[0;34m\u001b[0m\u001b[0m\n\u001b[1;32m    486\u001b[0m     \u001b[0;32mtry\u001b[0m\u001b[0;34m:\u001b[0m\u001b[0;34m\u001b[0m\u001b[0;34m\u001b[0m\u001b[0m\n",
      "\u001b[0;32m~/.local/lib/python3.8/site-packages/qiskit/circuit/quantumcircuit.py\u001b[0m in \u001b[0;36mto_instruction\u001b[0;34m(self, parameter_map, label)\u001b[0m\n\u001b[1;32m   1257\u001b[0m         \u001b[0;32mfrom\u001b[0m \u001b[0mqiskit\u001b[0m\u001b[0;34m.\u001b[0m\u001b[0mconverters\u001b[0m\u001b[0;34m.\u001b[0m\u001b[0mcircuit_to_instruction\u001b[0m \u001b[0;32mimport\u001b[0m \u001b[0mcircuit_to_instruction\u001b[0m\u001b[0;34m\u001b[0m\u001b[0;34m\u001b[0m\u001b[0m\n\u001b[1;32m   1258\u001b[0m \u001b[0;34m\u001b[0m\u001b[0m\n\u001b[0;32m-> 1259\u001b[0;31m         \u001b[0;32mreturn\u001b[0m \u001b[0mcircuit_to_instruction\u001b[0m\u001b[0;34m(\u001b[0m\u001b[0mself\u001b[0m\u001b[0;34m,\u001b[0m \u001b[0mparameter_map\u001b[0m\u001b[0;34m,\u001b[0m \u001b[0mlabel\u001b[0m\u001b[0;34m=\u001b[0m\u001b[0mlabel\u001b[0m\u001b[0;34m)\u001b[0m\u001b[0;34m\u001b[0m\u001b[0;34m\u001b[0m\u001b[0m\n\u001b[0m\u001b[1;32m   1260\u001b[0m \u001b[0;34m\u001b[0m\u001b[0m\n\u001b[1;32m   1261\u001b[0m     \u001b[0;32mdef\u001b[0m \u001b[0mto_gate\u001b[0m\u001b[0;34m(\u001b[0m\u001b[0mself\u001b[0m\u001b[0;34m,\u001b[0m \u001b[0mparameter_map\u001b[0m\u001b[0;34m=\u001b[0m\u001b[0;32mNone\u001b[0m\u001b[0;34m,\u001b[0m \u001b[0mlabel\u001b[0m\u001b[0;34m=\u001b[0m\u001b[0;32mNone\u001b[0m\u001b[0;34m)\u001b[0m\u001b[0;34m:\u001b[0m\u001b[0;34m\u001b[0m\u001b[0;34m\u001b[0m\u001b[0m\n",
      "\u001b[0;32m~/.local/lib/python3.8/site-packages/qiskit/converters/circuit_to_instruction.py\u001b[0m in \u001b[0;36mcircuit_to_instruction\u001b[0;34m(circuit, parameter_map, equivalence_library, label)\u001b[0m\n\u001b[1;32m     85\u001b[0m     \u001b[0minstruction\u001b[0m\u001b[0;34m.\u001b[0m\u001b[0mcondition\u001b[0m \u001b[0;34m=\u001b[0m \u001b[0;32mNone\u001b[0m\u001b[0;34m\u001b[0m\u001b[0;34m\u001b[0m\u001b[0m\n\u001b[1;32m     86\u001b[0m \u001b[0;34m\u001b[0m\u001b[0m\n\u001b[0;32m---> 87\u001b[0;31m     \u001b[0mtarget\u001b[0m \u001b[0;34m=\u001b[0m \u001b[0mcircuit\u001b[0m\u001b[0;34m.\u001b[0m\u001b[0massign_parameters\u001b[0m\u001b[0;34m(\u001b[0m\u001b[0mparameter_dict\u001b[0m\u001b[0;34m,\u001b[0m \u001b[0minplace\u001b[0m\u001b[0;34m=\u001b[0m\u001b[0;32mFalse\u001b[0m\u001b[0;34m)\u001b[0m\u001b[0;34m\u001b[0m\u001b[0;34m\u001b[0m\u001b[0m\n\u001b[0m\u001b[1;32m     88\u001b[0m \u001b[0;34m\u001b[0m\u001b[0m\n\u001b[1;32m     89\u001b[0m     \u001b[0;32mif\u001b[0m \u001b[0mequivalence_library\u001b[0m \u001b[0;32mis\u001b[0m \u001b[0;32mnot\u001b[0m \u001b[0;32mNone\u001b[0m\u001b[0;34m:\u001b[0m\u001b[0;34m\u001b[0m\u001b[0;34m\u001b[0m\u001b[0m\n",
      "\u001b[0;32m~/.local/lib/python3.8/site-packages/qiskit/utils/deprecation.py\u001b[0m in \u001b[0;36mwrapper\u001b[0;34m(*args, **kwargs)\u001b[0m\n\u001b[1;32m     60\u001b[0m             \u001b[0;32mif\u001b[0m \u001b[0mkwargs\u001b[0m\u001b[0;34m:\u001b[0m\u001b[0;34m\u001b[0m\u001b[0;34m\u001b[0m\u001b[0m\n\u001b[1;32m     61\u001b[0m                 \u001b[0m_rename_kwargs\u001b[0m\u001b[0;34m(\u001b[0m\u001b[0mfunc\u001b[0m\u001b[0;34m.\u001b[0m\u001b[0m__name__\u001b[0m\u001b[0;34m,\u001b[0m \u001b[0mkwargs\u001b[0m\u001b[0;34m,\u001b[0m \u001b[0mkwarg_map\u001b[0m\u001b[0;34m)\u001b[0m\u001b[0;34m\u001b[0m\u001b[0;34m\u001b[0m\u001b[0m\n\u001b[0;32m---> 62\u001b[0;31m             \u001b[0;32mreturn\u001b[0m \u001b[0mfunc\u001b[0m\u001b[0;34m(\u001b[0m\u001b[0;34m*\u001b[0m\u001b[0margs\u001b[0m\u001b[0;34m,\u001b[0m \u001b[0;34m**\u001b[0m\u001b[0mkwargs\u001b[0m\u001b[0;34m)\u001b[0m\u001b[0;34m\u001b[0m\u001b[0;34m\u001b[0m\u001b[0m\n\u001b[0m\u001b[1;32m     63\u001b[0m \u001b[0;34m\u001b[0m\u001b[0m\n\u001b[1;32m     64\u001b[0m         \u001b[0;32mreturn\u001b[0m \u001b[0mwrapper\u001b[0m\u001b[0;34m\u001b[0m\u001b[0;34m\u001b[0m\u001b[0m\n",
      "\u001b[0;32m~/.local/lib/python3.8/site-packages/qiskit/circuit/quantumcircuit.py\u001b[0m in \u001b[0;36massign_parameters\u001b[0;34m(self, parameters, inplace, param_dict)\u001b[0m\n\u001b[1;32m   2161\u001b[0m             \u001b[0mbound_circuit\u001b[0m \u001b[0;34m=\u001b[0m \u001b[0mself\u001b[0m\u001b[0;34m\u001b[0m\u001b[0;34m\u001b[0m\u001b[0m\n\u001b[1;32m   2162\u001b[0m         \u001b[0;32melse\u001b[0m\u001b[0;34m:\u001b[0m\u001b[0;34m\u001b[0m\u001b[0;34m\u001b[0m\u001b[0m\n\u001b[0;32m-> 2163\u001b[0;31m             \u001b[0mbound_circuit\u001b[0m \u001b[0;34m=\u001b[0m \u001b[0mself\u001b[0m\u001b[0;34m.\u001b[0m\u001b[0mcopy\u001b[0m\u001b[0;34m(\u001b[0m\u001b[0;34m)\u001b[0m\u001b[0;34m\u001b[0m\u001b[0;34m\u001b[0m\u001b[0m\n\u001b[0m\u001b[1;32m   2164\u001b[0m             \u001b[0mself\u001b[0m\u001b[0;34m.\u001b[0m\u001b[0m_increment_instances\u001b[0m\u001b[0;34m(\u001b[0m\u001b[0;34m)\u001b[0m\u001b[0;34m\u001b[0m\u001b[0;34m\u001b[0m\u001b[0m\n\u001b[1;32m   2165\u001b[0m             \u001b[0mbound_circuit\u001b[0m\u001b[0;34m.\u001b[0m\u001b[0m_name_update\u001b[0m\u001b[0;34m(\u001b[0m\u001b[0;34m)\u001b[0m\u001b[0;34m\u001b[0m\u001b[0;34m\u001b[0m\u001b[0m\n",
      "\u001b[0;32m~/.local/lib/python3.8/site-packages/qiskit/circuit/quantumcircuit.py\u001b[0m in \u001b[0;36mcopy\u001b[0;34m(self, name)\u001b[0m\n\u001b[1;32m   1887\u001b[0m         ]\n\u001b[1;32m   1888\u001b[0m \u001b[0;34m\u001b[0m\u001b[0m\n\u001b[0;32m-> 1889\u001b[0;31m         \u001b[0mcpy\u001b[0m\u001b[0;34m.\u001b[0m\u001b[0m_calibrations\u001b[0m \u001b[0;34m=\u001b[0m \u001b[0mcopy\u001b[0m\u001b[0;34m.\u001b[0m\u001b[0mdeepcopy\u001b[0m\u001b[0;34m(\u001b[0m\u001b[0mself\u001b[0m\u001b[0;34m.\u001b[0m\u001b[0m_calibrations\u001b[0m\u001b[0;34m)\u001b[0m\u001b[0;34m\u001b[0m\u001b[0;34m\u001b[0m\u001b[0m\n\u001b[0m\u001b[1;32m   1890\u001b[0m         \u001b[0mcpy\u001b[0m\u001b[0;34m.\u001b[0m\u001b[0m_metadata\u001b[0m \u001b[0;34m=\u001b[0m \u001b[0mcopy\u001b[0m\u001b[0;34m.\u001b[0m\u001b[0mdeepcopy\u001b[0m\u001b[0;34m(\u001b[0m\u001b[0mself\u001b[0m\u001b[0;34m.\u001b[0m\u001b[0m_metadata\u001b[0m\u001b[0;34m)\u001b[0m\u001b[0;34m\u001b[0m\u001b[0;34m\u001b[0m\u001b[0m\n\u001b[1;32m   1891\u001b[0m \u001b[0;34m\u001b[0m\u001b[0m\n",
      "\u001b[0;32m/usr/lib/python3.8/copy.py\u001b[0m in \u001b[0;36mdeepcopy\u001b[0;34m(x, memo, _nil)\u001b[0m\n\u001b[1;32m    170\u001b[0m                     \u001b[0my\u001b[0m \u001b[0;34m=\u001b[0m \u001b[0mx\u001b[0m\u001b[0;34m\u001b[0m\u001b[0;34m\u001b[0m\u001b[0m\n\u001b[1;32m    171\u001b[0m                 \u001b[0;32melse\u001b[0m\u001b[0;34m:\u001b[0m\u001b[0;34m\u001b[0m\u001b[0;34m\u001b[0m\u001b[0m\n\u001b[0;32m--> 172\u001b[0;31m                     \u001b[0my\u001b[0m \u001b[0;34m=\u001b[0m \u001b[0m_reconstruct\u001b[0m\u001b[0;34m(\u001b[0m\u001b[0mx\u001b[0m\u001b[0;34m,\u001b[0m \u001b[0mmemo\u001b[0m\u001b[0;34m,\u001b[0m \u001b[0;34m*\u001b[0m\u001b[0mrv\u001b[0m\u001b[0;34m)\u001b[0m\u001b[0;34m\u001b[0m\u001b[0;34m\u001b[0m\u001b[0m\n\u001b[0m\u001b[1;32m    173\u001b[0m \u001b[0;34m\u001b[0m\u001b[0m\n\u001b[1;32m    174\u001b[0m     \u001b[0;31m# If is its own copy, don't memoize.\u001b[0m\u001b[0;34m\u001b[0m\u001b[0;34m\u001b[0m\u001b[0;34m\u001b[0m\u001b[0m\n",
      "\u001b[0;31mKeyboardInterrupt\u001b[0m: "
     ]
    }
   ],
   "source": [
    "train_embedding('data/mc_train_data.txt', 'data/mc_test_data.txt', 't.pkl',\n",
    "                parser=parser, ansatz=ansatz, backend_config=backend_config)"
   ]
  },
  {
   "cell_type": "code",
   "execution_count": 94,
   "id": "f64e88d4",
   "metadata": {},
   "outputs": [],
   "source": [
    "def timestamp(te, ts, msg=''):\n",
    "    print(f'Took {round(te - ts, 3)} s {msg}')\n",
    "    \n",
    "# Read data\n",
    "def read_data(filename):\n",
    "    if filename == '':\n",
    "        print('No filename passed, returning empty lists.')\n",
    "        return [], []\n",
    "    labels, sentences = [], []\n",
    "    with open(filename) as f:\n",
    "        for line in f:\n",
    "            labels.append([1, 0] if line[0] == '1' else [0, 1])\n",
    "            sentences.append(line[1:].strip())\n",
    "    return np.array(labels), sentences\n",
    "\n",
    "def load_vocab(filename='trained_embeddings.pkl'):\n",
    "    with open('weights/' + filename, 'rb') as f:\n",
    "        loaded_dict = pickle.load(f)\n",
    "        # loaded_dict['vocab'] = [Symbol(v) for v in loaded_dict['vocab']]\n",
    "    return loaded_dict\n",
    "\n",
    "def remove_cups(diagram):\n",
    "    from discopy.rigid import Id\n",
    "    # Remove cups to reduce post-selection in the circuit, for faster execution\n",
    "    diags = []\n",
    "    for box, offset in zip(diagram.boxes, diagram.offsets):\n",
    "        if not box.dom:  # word box\n",
    "            diags.insert(offset, box)\n",
    "        else:  # cup (the only other type of box in these diagrams)\n",
    "            i = 0\n",
    "            off = offset\n",
    "            while off != len(diags[i].cod) - 1:\n",
    "                assert off > 0\n",
    "                off -= len(diags[i].cod)\n",
    "                i += 1\n",
    "            left, right = diags[i:i+2]\n",
    "            \n",
    "            if len(left.cod) == 1:\n",
    "                new_diag = right >> (left.r.dagger() @ Id(right.cod[1:]))\n",
    "            else:\n",
    "                assert len(right.cod) == 1\n",
    "                new_diag = left >> (Id(left.cod[:-1]) @ right.l.dagger())\n",
    "\n",
    "            diags[i:i+2] = [new_diag]\n",
    "\n",
    "    assert len(diags) == 1\n",
    "    return diags[0]\n",
    "\n",
    "def build_circuit(x:str, parser=None, ansatz=None):\n",
    "    if parser is None:\n",
    "        parser = DepCCGParser(possible_root_cats=['S[dcl]'])  # TODO: args for parser?\n",
    "    if ansatz is None:\n",
    "        ansatz = IQPAnsatz({N: 1, S: 1}, n_layers=1)\n",
    "        \n",
    "    raw_diagram = parser.sentence2diagram(x)\n",
    "    opt_diagram = remove_cups(raw_diagram)  # optimize circuit by reduce amount of post-selection\n",
    "    circ = ansatz(opt_diagram)\n",
    "    return circ\n",
    "\n",
    "def build_circuits(x:list, parser=None, ansatz=None):\n",
    "    if type(x) is str:\n",
    "        return [build_circuit(x, parser, ansatz)]\n",
    "    if parser is None:\n",
    "        parser = DepCCGParser(possible_root_cats=['S[dcl]'])  # TODO: args for parser?\n",
    "    if ansatz is None:\n",
    "        ansatz = IQPAnsatz({N: 1, S: 1}, n_layers=1)\n",
    "        \n",
    "    raw_diagrams = parser.sentences2diagrams(x)\n",
    "    opt_diagrams = [remove_cups(diagram) for diagram in raw_diagrams]  # optimize circuit by reduce amount of post-selection\n",
    "    circs = [ansatz(diagram) for diagram in opt_diagrams]\n",
    "    return circs\n",
    "    \n",
    "# garb function - ignore\n",
    "def build_sim_func(parser=None, ansatz=None, seed=123):\n",
    "    if parser is None:\n",
    "        parser = DepCCGParser(possible_root_cats=['S[dcl]'])\n",
    "    if ansatz is None:\n",
    "        ansatz = IQPAnsatz({N: 1, S: 1}, n_layers=1)\n",
    "    \n",
    "    def kernel(x: str, y: str):\n",
    "        # build circuits\n",
    "        x_circ = build_circuit(x, parser=parser, ansatz=ansatz).lambdify(*embedding['vocab'])(*embedding['vals'])\n",
    "        y_circ = build_circuit(y, parser=parser, ansatz=ansatz).lambdify(*embedding['vocab'])(*embedding['vals'])\n",
    "        \n",
    "        kernel = x_circ >> y_circ.dagger()\n",
    "        return Circuit.eval(kernel, **backend_config, seed=seed).array[0]\n",
    "    \n",
    "    return kernel\n",
    "\n",
    "\n",
    "def build_kernel_func(parser=None, ansatz=None, backend_config={}, seed=123):\n",
    "    if parser is None:\n",
    "        parser = DepCCGParser(possible_root_cats=['S[dcl]'])\n",
    "    if ansatz is None:\n",
    "        N = AtomicType.NOUN\n",
    "        S = AtomicType.SENTENCE\n",
    "        ansatz = IQPAnsatz({N: 1, S: 1}, n_layers=1)\n",
    "    \n",
    "    def kernel(x, y):\n",
    "        # build circuits\n",
    "        ts = time()\n",
    "        x_circs = build_circuits(x, parser=parser, ansatz=ansatz)\n",
    "        y_circs = build_circuits(y, parser=parser, ansatz=ansatz)\n",
    "        \n",
    "        x_circs = [c.lambdify(*embedding['vocab'])(*embedding['vals'])\n",
    "                      for c in x_circs]\n",
    "        y_circs = [c.lambdify(*embedding['vocab'])(*embedding['vals'])\n",
    "                     for c in y_circs]\n",
    "        timestamp(time(), ts, 'to prep circs')\n",
    "        \n",
    "        ts = time()\n",
    "        kernel_mat = np.zeros((len(x), len(y)))\n",
    "        for r in range(len(x)):\n",
    "            for c in range(len(y)):\n",
    "                kernel = x_circs[r] >> y_circs[c].dagger()\n",
    "                kernel_mat[r, c] = Circuit.eval(kernel, **backend_config, seed=seed).array[0]\n",
    "\n",
    "        timestamp(time(), ts, 'to build matrix')\n",
    "        return kernel_mat\n",
    "    \n",
    "    return kernel\n",
    "\n",
    "def build_gram_matrices(x_train, x_test, parser=None, ansatz=None, seed=123):\n",
    "    ts = time()\n",
    "    print('Building circuits...')\n",
    "    train_circs = build_circuits(x_train, parser=parser, ansatz=ansatz)\n",
    "    test_circs = build_circuits(x_test, parser=parser, ansatz=ansatz)\n",
    "    \n",
    "    train_circs = [c.lambdify(*embedding['vocab'])(*embedding['vals'])\n",
    "                  for c in train_circs]\n",
    "    test_circs = [c.lambdify(*embedding['vocab'])(*embedding['vals'])\n",
    "                 for c in test_circs]\n",
    "    timestamp(time(), ts)\n",
    "    \n",
    "    ts = time()\n",
    "    print('Building training Gram matrix...')\n",
    "    n_train = len(x_train)\n",
    "    gram_train = np.zeros((n_train, n_train))  # TODO: make identity and remove +1 in inner loop\n",
    "    for i in range(n_train):\n",
    "        for j in range(i+1):\n",
    "            kernel_circ = train_circs[i] >> train_circs[j].dagger()\n",
    "            sim = Circuit.eval(kernel_circ, **backend_config, seed=seed).array[0]\n",
    "            gram_train[i, j] = sim\n",
    "            gram_train[j, i] = sim\n",
    "    timestamp(time(), ts)\n",
    "    \n",
    "    ts = time()\n",
    "    print('Building testing Gram matrix...')\n",
    "    n_test = len(x_test)\n",
    "    gram_test = np.zeros((n_test, n_train))\n",
    "    for r in range(gram_test.shape[0]):\n",
    "        for c in range(gram_test.shape[1]):\n",
    "            kernel_circ = train_circs[c] >> test_circs[r].dagger()\n",
    "            sim = Circuit.eval(kernel_circ, **backend_config, seed=seed).array[0]\n",
    "            gram_test[r, c] = sim\n",
    "    timestamp(time(), ts)\n",
    "    \n",
    "    return gram_train, gram_test\n",
    "\n",
    "\n",
    "\n",
    "def randint(rng, low=-1 << 63, high=1 << 63-1):\n",
    "    return rng.integers(low, high)\n",
    "\n",
    "def normalise(predictions):\n",
    "    # apply smoothing to predictions\n",
    "    predictions = np.abs(predictions) + 1e-9\n",
    "    return predictions / predictions.sum()\n",
    "           "
   ]
  },
  {
   "cell_type": "code",
   "execution_count": 46,
   "id": "02c543af",
   "metadata": {},
   "outputs": [],
   "source": [
    "def transition_amp_sim(x_circ, y_circ):\n",
    "    return x_circ >> y_circ.dagger()\n",
    "\n",
    "SEED = 123\n",
    "np.random.seed(SEED)  # Fix the seed\n",
    "rng = np.random.default_rng(SEED)\n",
    "\n",
    "N = AtomicType.NOUN\n",
    "S = AtomicType.SENTENCE\n",
    "\n",
    "DEFAULT_PARSER = DepCCGParser(possible_root_cats=['S[dcl]'])\n",
    "DEFAULT_ANSATZ = IQPAnsatz({N: 1, S: 1}, n_layers=1)\n"
   ]
  },
  {
   "cell_type": "code",
   "execution_count": 58,
   "id": "2a13e356",
   "metadata": {},
   "outputs": [],
   "source": [
    "# testing outputs\n",
    "def make_kernel_fn(params, param_vals, sim_fn=transition_amp_sim, parser=DEFAULT_PARSER, ansatz=DEFAULT_ANSATZ, backend_config={}, seed=SEED):   \n",
    "    def kernel_fn(x, y):\n",
    "        if type(x) is str:\n",
    "            x = [x]\n",
    "        if type(y) is str:\n",
    "            y = [y]\n",
    "\n",
    "        # build circuits\n",
    "        ts = time()\n",
    "        x_circs = build_circuits(x, parser=parser, ansatz=ansatz)\n",
    "        y_circs = build_circuits(y, parser=parser, ansatz=ansatz)\n",
    "        \n",
    "        x_circs = [c.lambdify(*params)(*param_vals) for c in x_circs]\n",
    "        y_circs = [c.lambdify(*params)(*param_vals) for c in y_circs]\n",
    "        timestamp(time(), ts, 'to prep circs')\n",
    "        \n",
    "        ts = time()\n",
    "        kernel_mat = np.zeros((len(x), len(y)))\n",
    "        for r in range(len(x)):\n",
    "            for c in range(len(y)):\n",
    "                kernel = sim_fn(x_circs[r], y_circs[c])\n",
    "                output = Circuit.eval(kernel, **backend_config, seed=seed)\n",
    "                print(output)\n",
    "                kernel_mat[r, c] = output.array[0]\n",
    "\n",
    "        timestamp(time(), ts, 'to build matrix')\n",
    "        return kernel_mat\n",
    "    \n",
    "    return kernel_fn\n",
    "\n",
    "def make_pred_fn(circuits, parameters, backend_config):\n",
    "    measured_circuits = [c >> Id().tensor(*[Measure()] * len(c.cod)) for c in circuits]\n",
    "    circuit_fns = [c.lambdify(*parameters) for c in measured_circuits]\n",
    "\n",
    "    def predict(params):\n",
    "        outputs = Circuit.eval(*(c_fn(*params) for c_fn in circuit_fns),\n",
    "                               **backend_config, seed=randint(rng))\n",
    "        return np.array([normalise(output.array) for output in outputs])\n",
    "    return predict"
   ]
  },
  {
   "cell_type": "code",
   "execution_count": 59,
   "id": "de533c8a",
   "metadata": {},
   "outputs": [],
   "source": [
    "a = train_data[0]\n",
    "b = train_data[1]\n",
    "\n",
    "k = make_kernel_fn(vocab, vals, backend_config=backend_config)"
   ]
  },
  {
   "cell_type": "code",
   "execution_count": 60,
   "id": "3b5b49b5",
   "metadata": {},
   "outputs": [
    {
     "name": "stderr",
     "output_type": "stream",
     "text": [
      "\n",
      "\n"
     ]
    },
    {
     "name": "stdout",
     "output_type": "stream",
     "text": [
      "Took 4.934 s to prep circs\n",
      "Tensor(dom=Dim(1), cod=Dim(1), array=[0.00097656])\n",
      "Took 0.66 s to build matrix\n"
     ]
    },
    {
     "data": {
      "text/plain": [
       "array([[0.00097656]])"
      ]
     },
     "execution_count": 60,
     "metadata": {},
     "output_type": "execute_result"
    }
   ],
   "source": [
    "k(a, b)"
   ]
  },
  {
   "cell_type": "code",
   "execution_count": 53,
   "id": "b71c78b3",
   "metadata": {},
   "outputs": [
    {
     "name": "stderr",
     "output_type": "stream",
     "text": [
      "\n",
      "\n"
     ]
    },
    {
     "name": "stdout",
     "output_type": "stream",
     "text": [
      "Took 0.745 s to prep circs\n",
      "Took 0.233 s to build matrix\n"
     ]
    },
    {
     "data": {
      "text/plain": [
       "array([[0.01513672]])"
      ]
     },
     "execution_count": 53,
     "metadata": {},
     "output_type": "execute_result"
    }
   ],
   "source": [
    "k(a, a)"
   ]
  },
  {
   "cell_type": "code",
   "execution_count": 54,
   "id": "71796cf0",
   "metadata": {},
   "outputs": [
    {
     "name": "stderr",
     "output_type": "stream",
     "text": [
      "\n",
      "\n"
     ]
    },
    {
     "name": "stdout",
     "output_type": "stream",
     "text": [
      "Took 0.859 s to prep circs\n",
      "Took 0.178 s to build matrix\n"
     ]
    },
    {
     "data": {
      "text/plain": [
       "array([[0.]])"
      ]
     },
     "execution_count": 54,
     "metadata": {},
     "output_type": "execute_result"
    }
   ],
   "source": [
    "k(b,b)"
   ]
  },
  {
   "cell_type": "code",
   "execution_count": 101,
   "id": "85ebf06a",
   "metadata": {},
   "outputs": [
    {
     "name": "stderr",
     "output_type": "stream",
     "text": [
      "\n"
     ]
    }
   ],
   "source": [
    "a_c = build_circuits(a, parser, ansatz)[0]"
   ]
  },
  {
   "cell_type": "code",
   "execution_count": 65,
   "id": "5dd81e50",
   "metadata": {},
   "outputs": [],
   "source": [
    "measured_circuits = a_c >> Id().tensor(*[Measure()] * len(a_c.cod))\n",
    "circuit_fns = a_c.lambdify(*vocab)\n",
    "\n",
    "outputs = Circuit.eval(circuit_fns(*vals), **backend_config, seed=SEED)\n",
    "# np.array([normalise(output.array) for output in outputs])"
   ]
  },
  {
   "cell_type": "code",
   "execution_count": 68,
   "id": "29da59e1",
   "metadata": {},
   "outputs": [
    {
     "data": {
      "text/plain": [
       "array([1.])"
      ]
     },
     "execution_count": 68,
     "metadata": {},
     "output_type": "execute_result"
    }
   ],
   "source": [
    "normalise(outputs.array)"
   ]
  },
  {
   "cell_type": "code",
   "execution_count": 102,
   "id": "99ba014e",
   "metadata": {},
   "outputs": [
    {
     "data": {
      "image/png": "[encoded data removed]",
      "text/plain": [
       "<Figure size 432x288 with 1 Axes>"
      ]
     },
     "metadata": {
      "needs_background": "light"
     },
     "output_type": "display_data"
    }
   ],
   "source": [
    "c = a_c >> Id().tensor(*[Measure()] * len(a_c.cod))\n",
    "c = a_c.lambdify(*vocab)(*vals)\n",
    "c.draw()"
   ]
  },
  {
   "cell_type": "code",
   "execution_count": 110,
   "id": "02425caa",
   "metadata": {},
   "outputs": [
    {
     "data": {
      "text/plain": [
       "array([0.30035446, 0.16838548])"
      ]
     },
     "execution_count": 110,
     "metadata": {},
     "output_type": "execute_result"
    }
   ],
   "source": [
    "np.abs(Circuit.eval(c))#, backend=backend, compilation=backend.default_compilation_pass(2))"
   ]
  },
  {
   "cell_type": "code",
   "execution_count": 104,
   "id": "4761093d",
   "metadata": {},
   "outputs": [
    {
     "data": {
      "text/plain": [
       "Tensor(dom=Dim(1), cod=Dim(1), array=[0.11730957])"
      ]
     },
     "execution_count": 104,
     "metadata": {},
     "output_type": "execute_result"
    }
   ],
   "source": [
    "Circuit.eval(c, **backend_config, seed=SEED)"
   ]
  },
  {
   "cell_type": "code",
   "execution_count": 109,
   "id": "088ac5d5",
   "metadata": {},
   "outputs": [
    {
     "data": {
      "text/plain": [
       "1"
      ]
     },
     "execution_count": 109,
     "metadata": {},
     "output_type": "execute_result"
    }
   ],
   "source": [
    "len(c.cod)\n"
   ]
  },
  {
   "cell_type": "code",
   "execution_count": null,
   "id": "dd0f614c",
   "metadata": {},
   "outputs": [],
   "source": []
  },
  {
   "cell_type": "code",
   "execution_count": null,
   "id": "3a8cf0e7",
   "metadata": {},
   "outputs": [],
   "source": []
  },
  {
   "cell_type": "code",
   "execution_count": null,
   "id": "e2cea9e2",
   "metadata": {},
   "outputs": [],
   "source": []
  },
  {
   "cell_type": "code",
   "execution_count": null,
   "id": "a777ff1a",
   "metadata": {},
   "outputs": [],
   "source": []
  },
  {
   "cell_type": "code",
   "execution_count": null,
   "id": "fff28298",
   "metadata": {},
   "outputs": [],
   "source": []
  },
  {
   "cell_type": "code",
   "execution_count": 23,
   "id": "009719eb",
   "metadata": {},
   "outputs": [],
   "source": [
    "embedding = load_vocab()\n",
    "vocab = embedding['vocab']\n",
    "vals = embedding['vals']\n",
    "\n",
    "backend = AerBackend()\n",
    "backend_config = {\n",
    "    'backend': backend,\n",
    "    'compilation': backend.default_compilation_pass(2),\n",
    "    'n_shots': 2**13,\n",
    "}"
   ]
  },
  {
   "cell_type": "code",
   "execution_count": 36,
   "id": "983bdc9f",
   "metadata": {},
   "outputs": [],
   "source": [
    "k = build_kernel_func(vocab, vals)#, parser, ansatz, backend_config=backend_config)"
   ]
  },
  {
   "cell_type": "code",
   "execution_count": 37,
   "id": "d8a36d01",
   "metadata": {},
   "outputs": [
    {
     "name": "stderr",
     "output_type": "stream",
     "text": [
      "\n",
      "\n"
     ]
    },
    {
     "name": "stdout",
     "output_type": "stream",
     "text": [
      "Took 10.011 s to prep circs\n",
      "Took 0.279 s to build matrix\n"
     ]
    },
    {
     "data": {
      "text/plain": [
       "array([[0.11856647],\n",
       "       [0.03225937]])"
      ]
     },
     "execution_count": 37,
     "metadata": {},
     "output_type": "execute_result"
    }
   ],
   "source": [
    "train_labels, train_data = read_data('data/mc_train_data.txt')\n",
    "\n",
    "k(train_data[0:2], train_data[0])"
   ]
  },
  {
   "cell_type": "code",
   "execution_count": 6,
   "id": "dc3b8cfb",
   "metadata": {},
   "outputs": [],
   "source": [
    "\n",
    "\n",
    "parser = DepCCGParser(possible_root_cats=['S[dcl]'])\n",
    "ansatz = IQPAnsatz({N: 1, S: 1}, n_layers=1)"
   ]
  },
  {
   "cell_type": "code",
   "execution_count": 7,
   "id": "095cb324",
   "metadata": {},
   "outputs": [],
   "source": [
    "train_labels, train_data = read_data('data/mc_train_data.txt')\n",
    "dev_labels, dev_data = read_data('data/mc_dev_data.txt')\n",
    "test_labels, test_data = read_data('data/mc_test_data.txt')"
   ]
  },
  {
   "cell_type": "code",
   "execution_count": 8,
   "id": "d1a3f579",
   "metadata": {},
   "outputs": [],
   "source": [
    "backend = AerBackend()\n",
    "backend_config = {\n",
    "    'backend': backend,\n",
    "    'compilation': backend.default_compilation_pass(2),\n",
    "    'n_shots': 2**13,\n",
    "}"
   ]
  },
  {
   "cell_type": "code",
   "execution_count": 6,
   "id": "c3d6e367",
   "metadata": {},
   "outputs": [],
   "source": [
    "kernel_func = build_kernel_func(parser=parser, ansatz=ansatz, seed=SEED)\n",
    "\n",
    "# gram_train = kernel_func(train_data, train_data)\n",
    "# gram_test = kernel_func(train_data, test_data)"
   ]
  },
  {
   "cell_type": "code",
   "execution_count": 9,
   "id": "15ecd501",
   "metadata": {},
   "outputs": [
    {
     "name": "stdout",
     "output_type": "stream",
     "text": [
      "Building circuits...\n"
     ]
    },
    {
     "name": "stderr",
     "output_type": "stream",
     "text": [
      "\n",
      "\n"
     ]
    },
    {
     "name": "stdout",
     "output_type": "stream",
     "text": [
      "Took 26.246 s \n",
      "Building training Gram matrix...\n",
      "Took 635.473 s \n",
      "Building testing Gram matrix...\n",
      "Took 681.211 s \n"
     ]
    }
   ],
   "source": [
    "gram_train, gram_test = build_gram_matrices(train_data, test_data,\n",
    "                        parser=parser, ansatz=ansatz, seed=SEED)"
   ]
  },
  {
   "cell_type": "code",
   "execution_count": 10,
   "id": "9cd6739a",
   "metadata": {},
   "outputs": [
    {
     "data": {
      "image/png": "[encoded data removed]",
      "text/plain": [
       "<Figure size 720x360 with 2 Axes>"
      ]
     },
     "metadata": {
      "needs_background": "light"
     },
     "output_type": "display_data"
    }
   ],
   "source": [
    "fig, axs = plt.subplots(1, 2, figsize=(10, 5))\n",
    "axs[0].imshow(\n",
    "    np.asmatrix(gram_train), interpolation=\"nearest\", origin=\"upper\", cmap=\"Blues\"\n",
    ")\n",
    "axs[0].set_title(\"Training kernel matrix\")\n",
    "axs[1].imshow(np.asmatrix(gram_test), interpolation=\"nearest\", origin=\"upper\", cmap=\"Reds\")\n",
    "axs[1].set_title(\"Testing kernel matrix\")\n",
    "plt.show()\n"
   ]
  },
  {
   "cell_type": "code",
   "execution_count": 10,
   "id": "11cce328",
   "metadata": {},
   "outputs": [],
   "source": [
    "np.save('rand_gram_test.npy', gram_test)\n",
    "np.save('rand_gram_train.npy', gram_train)"
   ]
  },
  {
   "cell_type": "code",
   "execution_count": 12,
   "id": "6cd2528d",
   "metadata": {},
   "outputs": [
    {
     "name": "stdout",
     "output_type": "stream",
     "text": [
      "Took 0.23 s to fit SVC\n",
      "Took 0.026 s to score SVC\n",
      "Precomputed kernel classification test score: 0.5\n"
     ]
    }
   ],
   "source": [
    "svc = SVC(kernel=\"precomputed\")\n",
    "\n",
    "ts = time()\n",
    "svc.fit(gram_train, train_labels[:, 0])\n",
    "timestamp(time(), ts, 'to fit SVC')\n",
    "\n",
    "ts = time()\n",
    "rand_score = svc.score(gram_test, test_labels[:, 0])\n",
    "timestamp(time(), ts, 'to score SVC')\n",
    "\n",
    "print(f\"Precomputed kernel classification test score: {rand_score}\")"
   ]
  },
  {
   "cell_type": "code",
   "execution_count": null,
   "id": "7eb5b3df",
   "metadata": {},
   "outputs": [],
   "source": []
  }
 ],
 "metadata": {
  "kernelspec": {
   "display_name": "Python 3 (ipykernel)",
   "language": "python",
   "name": "python3"
  },
  "language_info": {
   "codemirror_mode": {
    "name": "ipython",
    "version": 3
   },
   "file_extension": ".py",
   "mimetype": "text/x-python",
   "name": "python",
   "nbconvert_exporter": "python",
   "pygments_lexer": "ipython3",
   "version": "3.8.10"
  }
 },
 "nbformat": 4,
 "nbformat_minor": 5
}
