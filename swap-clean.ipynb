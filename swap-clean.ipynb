{
 "cells": [
  {
   "cell_type": "code",
   "execution_count": 1,
   "id": "41dd88be",
   "metadata": {},
   "outputs": [],
   "source": [
    "import pickle\n",
    "import numpy as np\n",
    "from time import time\n",
    "from sympy import default_sort_key\n",
    "import matplotlib.pyplot as plt  \n",
    "from sklearn.svm import SVC\n",
    "\n",
    "import warnings\n",
    "warnings.filterwarnings('ignore')  # Ignore warnings\n",
    "\n",
    "from discopy.tensor import Tensor\n",
    "from discopy.rigid import Id\n",
    "from discopy.quantum import Circuit\n",
    "\n",
    "from lambeq.ccg2discocat import DepCCGParser\n",
    "from lambeq.circuit import IQPAnsatz\n",
    "from lambeq.tensor import SpiderAnsatz\n",
    "from lambeq.core.types import AtomicType\n",
    "from lambeq.ansatz import Symbol\n",
    "\n",
    "from pytket.extensions.qiskit import AerBackend, IBMQBackend, IBMQEmulatorBackend\n",
    "from pytket import Circuit as tketCircuit\n",
    "from pytket.extensions.qiskit import tk_to_qiskit\n",
    "\n",
    "import helper_funcs as hlp"
   ]
  },
  {
   "cell_type": "code",
   "execution_count": 2,
   "id": "87a51569",
   "metadata": {},
   "outputs": [],
   "source": [
    "backend = AerBackend()\n",
    "backend_config = {\n",
    "    'backend': backend,\n",
    "    'compilation': backend.default_compilation_pass(2),\n",
    "    'n_shots': 2**13,\n",
    "}\n",
    "\n",
    "train_labels, train_data = hlp.read_data('mc_train_data.txt')\n",
    "test_labels, test_data = hlp.read_data('mc_test_data.txt')\n",
    "\n",
    "embedding = hlp.load_weights('trained_embeddings_new.pkl')\n",
    "vocab = embedding['vocab']\n",
    "vals = embedding['vals']"
   ]
  },
  {
   "cell_type": "code",
   "execution_count": 3,
   "id": "7033a30c",
   "metadata": {},
   "outputs": [
    {
     "name": "stderr",
     "output_type": "stream",
     "text": [
      "\n",
      "\n"
     ]
    }
   ],
   "source": [
    "train_circs = hlp.build_circuits(train_data)\n",
    "test_circs = hlp.build_circuits(test_data)"
   ]
  },
  {
   "cell_type": "markdown",
   "id": "3657d8de",
   "metadata": {},
   "source": [
    "## Grouping"
   ]
  },
  {
   "cell_type": "code",
   "execution_count": 18,
   "id": "04b4bc87",
   "metadata": {},
   "outputs": [
    {
     "name": "stderr",
     "output_type": "stream",
     "text": [
      "\n"
     ]
    }
   ],
   "source": [
    "train_labels, train_data = hlp.read_data('mc_train_data.txt')\n",
    "test_labels, test_data = hlp.read_data('mc_test_data.txt')\n",
    "\n",
    "train_data, train_labels = hlp.sort_data(train_data, train_labels)\n",
    "test_data, test_labels = hlp.sort_data(test_data, test_labels)"
   ]
  },
  {
   "cell_type": "code",
   "execution_count": 4,
   "id": "7d55aaa6",
   "metadata": {},
   "outputs": [
    {
     "name": "stdout",
     "output_type": "stream",
     "text": [
      "Building training Gram matrix...\n",
      "Took 0.014 s \n",
      "Building testing Gram matrix...\n",
      "Took 0.003 s \n"
     ]
    },
    {
     "data": {
      "image/png": "[encoded data removed]",
      "text/plain": [
       "<Figure size 720x360 with 2 Axes>"
      ]
     },
     "metadata": {
      "needs_background": "light"
     },
     "output_type": "display_data"
    },
    {
     "name": "stdout",
     "output_type": "stream",
     "text": [
      "Took 0.001 s to fit SVC\n",
      "Took 0.001 s to score SVC\n",
      "Precomputed kernel classification test score: 0.5\n"
     ]
    }
   ],
   "source": [
    "gram_train, gram_test = hlp.test_build_gram_matrices(train_labels, test_labels, None, None)\n",
    "\n",
    "hlp.display_grams(gram_train, gram_test)\n",
    "\n",
    "\n",
    "svc = SVC(kernel=\"precomputed\")\n",
    "\n",
    "ts = time()\n",
    "svc.fit(gram_train, train_labels[:, 0])\n",
    "hlp.timestamp(time(), ts, 'to fit SVC')\n",
    "\n",
    "ts = time()\n",
    "score = svc.score(gram_test, test_labels[:, 0])\n",
    "hlp.timestamp(time(), ts, 'to score SVC')\n",
    "\n",
    "print(f\"Precomputed kernel classification test score: {score}\")"
   ]
  },
  {
   "cell_type": "markdown",
   "id": "745486f6",
   "metadata": {},
   "source": [
    "## Testing"
   ]
  },
  {
   "cell_type": "code",
   "execution_count": 51,
   "id": "931822f2",
   "metadata": {},
   "outputs": [],
   "source": [
    "SEED =123\n",
    "\n",
    "def get_swap_fn(backend_config=backend_config, seed=SEED):\n",
    "    def sim_fn(c1, c2):\n",
    "        tk1 = c1.to_tk()\n",
    "        tk2 = c2.to_tk()\n",
    "\n",
    "        qubit_mapper = list(range(tk1.n_qubits, tk1.n_qubits + tk2.n_qubits))\n",
    "        bit_mapper = list(range(tk1.n_bits, tk1.n_bits + tk2.n_bits))\n",
    "\n",
    "        tk2_new_post_selection = {q + tk1.n_bits : v for q, v in tk2.post_selection.items()}\n",
    "\n",
    "        qc = tk1.add_circuit(tk2, qubit_mapper, bit_mapper)\n",
    "        qc.post_select(tk2_new_post_selection)\n",
    "\n",
    "        # Add 1 qubit and cbit circuit for ancillary bit\n",
    "        anc = tketCircuit(1, 1)\n",
    "        qc.add_circuit(anc, [qc.n_qubits], [qc.n_bits])\n",
    "\n",
    "        anc_qubit = qc.n_qubits - 1\n",
    "        anc_bit = qc.n_bits - 1\n",
    "        qc.H(anc_qubit)\n",
    "\n",
    "        control_qubit = qc.qubits[-1]\n",
    "        target_qubits = []\n",
    "        for qubit in qc.qubits[:-1]:\n",
    "            if qubit not in qc.qubit_to_bit_map:\n",
    "                target_qubits.append(qubit)\n",
    "\n",
    "        qc.CSWAP(control_qubit, *target_qubits)\n",
    "        qc.H(anc_qubit)\n",
    "\n",
    "        qc.Measure(anc_qubit, anc_bit)\n",
    "\n",
    "        # Execute circuit\n",
    "        res = qc.get_counts(**backend_config)\n",
    "\n",
    "        # normalize results\n",
    "        total_p = sum(res[0].values())\n",
    "        res = {k : p/total_p for k,p in res[0].items()}\n",
    "        \n",
    "        if  res.get((0,), -1) == -1:\n",
    "            print(f'no 0')\n",
    "\n",
    "        p0 = res.get((0,), 0.5)\n",
    "        sim = 2*p0 - 1\n",
    "        return sim\n",
    "    return sim_fn"
   ]
  },
  {
   "cell_type": "code",
   "execution_count": 7,
   "id": "7b3ddeef",
   "metadata": {},
   "outputs": [
    {
     "name": "stderr",
     "output_type": "stream",
     "text": [
      "\n",
      "\n"
     ]
    },
    {
     "name": "stdout",
     "output_type": "stream",
     "text": [
      "Took 0.721 s to prep circs\n",
      "Took 0.536 s to build matrix\n"
     ]
    },
    {
     "data": {
      "text/plain": [
       "array([[1.]])"
      ]
     },
     "execution_count": 7,
     "metadata": {},
     "output_type": "execute_result"
    }
   ],
   "source": [
    "kernel = hlp.make_kernel_fn(vocab, vals, backend_config=backend_config,\n",
    "                           get_sim_fn=hlp.get_swap_test_fn)\n",
    "kernel(train_data[0], train_data[0])"
   ]
  },
  {
   "cell_type": "code",
   "execution_count": 8,
   "id": "f74ec666",
   "metadata": {},
   "outputs": [
    {
     "name": "stdout",
     "output_type": "stream",
     "text": [
      "Building circuits...\n"
     ]
    },
    {
     "name": "stderr",
     "output_type": "stream",
     "text": [
      "\n",
      "\n"
     ]
    },
    {
     "name": "stdout",
     "output_type": "stream",
     "text": [
      "Took 7.786 s \n",
      "Building training Gram matrix...\n",
      "Took 288.392 s \n",
      "Building testing Gram matrix...\n",
      "Took 235.996 s \n"
     ]
    }
   ],
   "source": [
    "gram_train, gram_test = hlp.build_gram_matrices(\n",
    "    train_data, test_data, vocab, vals, backend_config=backend_config,\n",
    "    get_sim_fn=get_swap_fn\n",
    ")\n",
    "\n",
    "hlp.display_grams(gram_train, gram_test)#, save_name='swap-grams')"
   ]
  },
  {
   "cell_type": "code",
   "execution_count": 9,
   "id": "af41dc1e",
   "metadata": {},
   "outputs": [],
   "source": [
    "# save_name = './gram_matrices/swap-gram'\n",
    "# if save_name:\n",
    "#     np.save(f'{save_name}_test.npy', gram_test)\n",
    "#     np.save(f'{save_name}_train.npy', gram_train)"
   ]
  },
  {
   "cell_type": "code",
   "execution_count": 12,
   "id": "06dc8c69",
   "metadata": {
    "scrolled": true
   },
   "outputs": [
    {
     "data": {
      "image/png": "[encoded data removed]",
      "text/plain": [
       "<Figure size 720x360 with 2 Axes>"
      ]
     },
     "metadata": {
      "needs_background": "light"
     },
     "output_type": "display_data"
    }
   ],
   "source": [
    "hlp.display_gram(gram_train, gram_test)\n",
    "# hlp.display_grams(gram_train, gram_test, save_name='swap-grams')"
   ]
  },
  {
   "cell_type": "code",
   "execution_count": 14,
   "id": "da6e3d68",
   "metadata": {},
   "outputs": [
    {
     "name": "stdout",
     "output_type": "stream",
     "text": [
      "Took 0.001 s to fit SVC\n",
      "Took 0.001 s to score SVC\n",
      "Precomputed kernel classification test score: 0.9666666666666667\n"
     ]
    }
   ],
   "source": [
    "from sklearn.svm import SVC\n",
    "\n",
    "svc = SVC(kernel=\"precomputed\")\n",
    "\n",
    "ts = time()\n",
    "svc.fit(gram_train, train_labels[:, 0])\n",
    "hlp.timestamp(time(), ts, 'to fit SVC')\n",
    "\n",
    "ts = time()\n",
    "score = svc.score(gram_test, test_labels[:, 0])\n",
    "hlp.timestamp(time(), ts, 'to score SVC')\n",
    "\n",
    "print(f\"Precomputed kernel classification test score: {score}\")"
   ]
  },
  {
   "cell_type": "code",
   "execution_count": 15,
   "id": "5e224e5a",
   "metadata": {},
   "outputs": [
    {
     "data": {
      "text/plain": [
       "array([0, 1, 0, ..., 1, 0, 1])"
      ]
     },
     "execution_count": 15,
     "metadata": {},
     "output_type": "execute_result"
    }
   ],
   "source": [
    "pred = svc.predict(gram_test)\n",
    "pred"
   ]
  },
  {
   "cell_type": "code",
   "execution_count": 18,
   "id": "f937ba54",
   "metadata": {},
   "outputs": [
    {
     "name": "stdout",
     "output_type": "stream",
     "text": [
      "woman prepares tasty dinner\n"
     ]
    }
   ],
   "source": [
    "for i in range(len(pred)):\n",
    "    if pred[i] != test_labels[i, 0]:\n",
    "        print(test_data[i])"
   ]
  },
  {
   "cell_type": "code",
   "execution_count": 23,
   "id": "e633fca1",
   "metadata": {},
   "outputs": [
    {
     "name": "stderr",
     "output_type": "stream",
     "text": [
      "\n"
     ]
    },
    {
     "name": "stdout",
     "output_type": "stream",
     "text": [
      "Test accuracy: 0.9666666666666667\n"
     ]
    }
   ],
   "source": [
    "test_circs = hlp.build_circuits(test_data)\n",
    "test_pred_fn = hlp.make_pred_fn(test_circs, vocab, backend_config=backend_config)\n",
    "test_cost_fn, _, test_accs = hlp.make_cost_fn(test_pred_fn, test_labels)\n",
    "test_cost_fn(vals)\n",
    "print(f'Test accuracy: {test_accs[0]}')"
   ]
  },
  {
   "cell_type": "code",
   "execution_count": 24,
   "id": "753e7b13",
   "metadata": {},
   "outputs": [
    {
     "data": {
      "text/plain": [
       "array([[0.66319444, 0.33680556],\n",
       "       [0.99895616, 0.00104384],\n",
       "       [0.06292136, 0.93707864],\n",
       "       ...,\n",
       "       [0.95872556, 0.04127444],\n",
       "       [0.41250002, 0.58749998],\n",
       "       [0.88547484, 0.11452516]])"
      ]
     },
     "execution_count": 24,
     "metadata": {},
     "output_type": "execute_result"
    }
   ],
   "source": [
    "pred2 = test_pred_fn(vals)\n",
    "pred2"
   ]
  },
  {
   "cell_type": "code",
   "execution_count": null,
   "id": "99a495ac",
   "metadata": {},
   "outputs": [],
   "source": []
  },
  {
   "cell_type": "code",
   "execution_count": 21,
   "id": "ae62107e",
   "metadata": {},
   "outputs": [
    {
     "name": "stdout",
     "output_type": "stream",
     "text": [
      "Took 0.226 s to fit SVC\n",
      "Took 0.017 s to score SVC\n",
      "Precomputed kernel classification test score: 0.9666666666666667\n"
     ]
    }
   ],
   "source": [
    "from sklearn.svm import SVC\n",
    "\n",
    "svc = SVC(kernel=\"precomputed\", probability=True)\n",
    "\n",
    "ts = time()\n",
    "svc.fit(gram_train, train_labels[:, 0])\n",
    "hlp.timestamp(time(), ts, 'to fit SVC')\n",
    "\n",
    "ts = time()\n",
    "score = svc.score(gram_test, test_labels[:, 0])\n",
    "hlp.timestamp(time(), ts, 'to score SVC')\n",
    "\n",
    "print(f\"Precomputed kernel classification test score: {score}\")"
   ]
  },
  {
   "cell_type": "code",
   "execution_count": 22,
   "id": "803c88e9",
   "metadata": {},
   "outputs": [
    {
     "data": {
      "text/plain": [
       "array([[0.86514881, 0.13485119],\n",
       "       [0.02611123, 0.97388877],\n",
       "       [0.9856444 , 0.0143556 ],\n",
       "       ...,\n",
       "       [0.02869905, 0.97130095],\n",
       "       [0.76975912, 0.23024088],\n",
       "       [0.08148359, 0.91851641]])"
      ]
     },
     "execution_count": 22,
     "metadata": {},
     "output_type": "execute_result"
    }
   ],
   "source": [
    "pred = svc.predict_proba(gram_test)\n",
    "pred"
   ]
  },
  {
   "cell_type": "code",
   "execution_count": 25,
   "id": "30d19f90",
   "metadata": {},
   "outputs": [
    {
     "data": {
      "text/plain": [
       "array([0, 1, 0, ..., 1, 0, 1])"
      ]
     },
     "execution_count": 25,
     "metadata": {},
     "output_type": "execute_result"
    }
   ],
   "source": [
    "svc.predict(gram_test)"
   ]
  },
  {
   "cell_type": "code",
   "execution_count": 4,
   "id": "b254d356",
   "metadata": {},
   "outputs": [],
   "source": [
    "test_data"
   ]
  },
  {
   "cell_type": "code",
   "execution_count": 40,
   "id": "395ba411",
   "metadata": {},
   "outputs": [
    {
     "name": "stderr",
     "output_type": "stream",
     "text": [
      "\n",
      "\n"
     ]
    },
    {
     "name": "stdout",
     "output_type": "stream",
     "text": [
      "Took 1.22 s to prep circs\n",
      "Took 0.23 s to build matrix\n"
     ]
    },
    {
     "data": {
      "text/plain": [
       "array([[0.9047619]])"
      ]
     },
     "execution_count": 40,
     "metadata": {},
     "output_type": "execute_result"
    }
   ],
   "source": [
    "kernel(test_data[0], train_data[4])"
   ]
  },
  {
   "cell_type": "code",
   "execution_count": 39,
   "id": "638125b8",
   "metadata": {},
   "outputs": [
    {
     "data": {
      "text/plain": [
       "array([1, 1, 1, ..., 0, 1, 0])"
      ]
     },
     "execution_count": 39,
     "metadata": {},
     "output_type": "execute_result"
    }
   ],
   "source": [
    "train_labels[:, 0]"
   ]
  },
  {
   "cell_type": "code",
   "execution_count": 42,
   "id": "d9d8d7f5",
   "metadata": {},
   "outputs": [
    {
     "data": {
      "text/plain": [
       "'skillful woman debugs program'"
      ]
     },
     "execution_count": 42,
     "metadata": {},
     "output_type": "execute_result"
    }
   ],
   "source": [
    "train_data[4]"
   ]
  },
  {
   "cell_type": "code",
   "execution_count": 43,
   "id": "d6a84454",
   "metadata": {},
   "outputs": [
    {
     "data": {
      "text/plain": [
       "'woman prepares tasty dinner'"
      ]
     },
     "execution_count": 43,
     "metadata": {},
     "output_type": "execute_result"
    }
   ],
   "source": [
    "test_data[0]"
   ]
  },
  {
   "cell_type": "markdown",
   "id": "8be9a72a",
   "metadata": {},
   "source": [
    "## RANDOM"
   ]
  },
  {
   "cell_type": "code",
   "execution_count": 6,
   "id": "95568846",
   "metadata": {},
   "outputs": [
    {
     "name": "stderr",
     "output_type": "stream",
     "text": [
      "\n",
      "\n"
     ]
    },
    {
     "name": "stdout",
     "output_type": "stream",
     "text": [
      "Took 0.672 s to prep circs\n",
      "Took 0.413 s to build matrix\n"
     ]
    },
    {
     "data": {
      "text/plain": [
       "array([[1.]])"
      ]
     },
     "execution_count": 6,
     "metadata": {},
     "output_type": "execute_result"
    }
   ],
   "source": [
    "embedding = hlp.load_weights('random_embedding.pkl')\n",
    "vocab = embedding['vocab']\n",
    "vals = embedding['vals']\n",
    "\n",
    "kernel = hlp.make_kernel_fn(vocab, vals, backend_config=backend_config,\n",
    "                           get_sim_fn=hlp.get_swap_test_fn)\n",
    "kernel(train_data[0], train_data[0])"
   ]
  },
  {
   "cell_type": "code",
   "execution_count": 10,
   "id": "fed6c26b",
   "metadata": {},
   "outputs": [],
   "source": [
    "gram_train, gram_test = hlp.build_gram_matrices(\n",
    "    train_data, test_data, vocab, vals, backend_config=backend_config,\n",
    "    get_sim_fn=hlp.get_swap_test_fn\n",
    ")\n",
    "\n",
    "hlp.display_grams(gram_train, gram_test)#, save_name='swap-grams')"
   ]
  },
  {
   "cell_type": "code",
   "execution_count": 9,
   "id": "eb85d3c6",
   "metadata": {},
   "outputs": [
    {
     "data": {
      "image/png": "[encoded data removed]",
      "text/plain": [
       "<Figure size 720x360 with 2 Axes>"
      ]
     },
     "metadata": {
      "needs_background": "light"
     },
     "output_type": "display_data"
    }
   ],
   "source": [
    "hlp.display_grams(gram_train, gram_test)#, save_name='swap-grams')"
   ]
  },
  {
   "cell_type": "code",
   "execution_count": 11,
   "id": "a8a59d23",
   "metadata": {},
   "outputs": [
    {
     "name": "stdout",
     "output_type": "stream",
     "text": [
      "Took 0.068 s to fit SVC\n",
      "Took 0.003 s to score SVC\n",
      "Precomputed kernel classification test score: 0.5666666666666667\n"
     ]
    }
   ],
   "source": [
    "\n",
    "svc = SVC(kernel=\"precomputed\", probability=True)\n",
    "\n",
    "ts = time()\n",
    "svc.fit(gram_train, train_labels[:, 0])\n",
    "hlp.timestamp(time(), ts, 'to fit SVC')\n",
    "\n",
    "ts = time()\n",
    "score = svc.score(gram_test, test_labels[:, 0])\n",
    "hlp.timestamp(time(), ts, 'to score SVC')\n",
    "\n",
    "print(f\"Precomputed kernel classification test score: {score}\")"
   ]
  },
  {
   "cell_type": "code",
   "execution_count": 14,
   "id": "3cfd1b7e",
   "metadata": {},
   "outputs": [],
   "source": [
    "test_circs = hlp.build_circuits(test_data)\n",
    "test_pred_fn = hlp.make_pred_fn(test_circs, vocab, backend_config=backend_config)\n",
    "test_cost_fn, _, test_accs = hlp.make_cost_fn(test_pred_fn, test_labels)\n",
    "\n",
    "test_cost_fn(vals)\n",
    "\n",
    "print(f'Test accuracy: {test_accs[0]}')"
   ]
  },
  {
   "cell_type": "markdown",
   "id": "3394234b",
   "metadata": {},
   "source": [
    "## Fit time"
   ]
  },
  {
   "cell_type": "code",
   "execution_count": 8,
   "id": "6b92bb99",
   "metadata": {},
   "outputs": [
    {
     "name": "stderr",
     "output_type": "stream",
     "text": [
      "\n",
      "\n"
     ]
    },
    {
     "name": "stdout",
     "output_type": "stream",
     "text": [
      "time to build circs: 15\n"
     ]
    }
   ],
   "source": [
    "train_labels, train_data = hlp.read_data('mc_train_data.txt')\n",
    "test_labels, test_data = hlp.read_data('mc_test_data.txt')\n",
    "\n",
    "embedding = hlp.load_weights('trained_embeddings_new.pkl')\n",
    "vocab = embedding['vocab']\n",
    "vals = embedding['vals']\n",
    "\n",
    "ts = time()\n",
    "train_circs = hlp.build_circuits(train_data)\n",
    "test_circs = hlp.build_circuits(test_data)\n",
    "\n",
    "train_circs_bound = [c.lambdify(*vocab)(*vals) for c in train_circs]\n",
    "test_circs_bound = [c.lambdify(*vocab)(*vals) for c in test_circs]\n",
    "\n",
    "print(f'time to build circs: {round(time()-ts)}')"
   ]
  },
  {
   "cell_type": "code",
   "execution_count": 9,
   "id": "3f1e2282",
   "metadata": {},
   "outputs": [
    {
     "name": "stdout",
     "output_type": "stream",
     "text": [
      "Took 1154.979 s to fit SVC\n",
      "Took 438.817 s to score SVC\n",
      "Precomputed kernel classification test score: 1.0\n",
      "finished in 1594\n"
     ]
    }
   ],
   "source": [
    "TS = time()\n",
    "kernel = hlp.make_circ_kernel_fn(backend_config=backend_config)\n",
    "\n",
    "svc = SVC(kernel=kernel)\n",
    "\n",
    "ts = time()\n",
    "svc.fit(train_circs_bound, train_labels[:, 0])\n",
    "hlp.timestamp(time(), ts, 'to fit SVC')\n",
    "\n",
    "ts = time()\n",
    "score = svc.score(test_circs_bound, test_labels[:, 0])\n",
    "hlp.timestamp(time(), ts, 'to score SVC')\n",
    "\n",
    "print(f\"Precomputed kernel classification test score: {score}\")\n",
    "print(f'finished in {round(time()-TS)}')"
   ]
  },
  {
   "cell_type": "code",
   "execution_count": null,
   "id": "d648f672",
   "metadata": {},
   "outputs": [
    {
     "name": "stdout",
     "output_type": "stream",
     "text": [
      "Building circuits...\n"
     ]
    },
    {
     "name": "stderr",
     "output_type": "stream",
     "text": [
      "\n",
      "\n"
     ]
    },
    {
     "name": "stdout",
     "output_type": "stream",
     "text": [
      "Took 117.948 s \n",
      "Building training Gram matrix...\n"
     ]
    }
   ],
   "source": [
    "TS = time()\n",
    "gram_train, gram_test = hlp.build_gram_matrices(\n",
    "    train_data, test_data, vocab, vals, backend_config=backend_config,\n",
    ")\n",
    "\n",
    "svc = SVC(kernel=\"precomputed\")\n",
    "\n",
    "ts = time()\n",
    "svc.fit(gram_train, train_labels[:, 0])\n",
    "hlp.timestamp(time(), ts, 'to fit SVC')\n",
    "\n",
    "ts = time()\n",
    "score = svc.score(gram_test, test_labels[:, 0])\n",
    "hlp.timestamp(time(), ts, 'to score SVC')\n",
    "\n",
    "print(f\"Precomputed kernel classification test score: {score}\")\n",
    "print(f'finished in {round(time()-TS)}')"
   ]
  },
  {
   "cell_type": "code",
   "execution_count": null,
   "id": "f9c9f18c",
   "metadata": {},
   "outputs": [],
   "source": [
    " "
   ]
  }
 ],
 "metadata": {
  "kernelspec": {
   "display_name": "Python 3 (ipykernel)",
   "language": "python",
   "name": "python3"
  },
  "language_info": {
   "codemirror_mode": {
    "name": "ipython",
    "version": 3
   },
   "file_extension": ".py",
   "mimetype": "text/x-python",
   "name": "python",
   "nbconvert_exporter": "python",
   "pygments_lexer": "ipython3",
   "version": "3.8.10"
  }
 },
 "nbformat": 4,
 "nbformat_minor": 5
}
