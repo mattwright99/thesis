{
 "cells": [
  {
   "cell_type": "code",
   "execution_count": 1,
   "id": "dcc91f76",
   "metadata": {},
   "outputs": [],
   "source": [
    "import numpy as np\n",
    "import pickle\n",
    "import matplotlib.pyplot as plt  \n",
    "from sklearn.svm import SVC\n",
    "from time import time \n",
    "\n",
    "from pytket.extensions.qiskit import AerBackend, IBMQBackend, IBMQEmulatorBackend\n",
    "from noisyopt import minimizeSPSA\n",
    "\n",
    "plt.rcParams['font.size'] = 15\n",
    "\n",
    "import helper_funcs as hlp"
   ]
  },
  {
   "cell_type": "code",
   "execution_count": 2,
   "id": "d3ef3e37",
   "metadata": {},
   "outputs": [],
   "source": [
    "backend = AerBackend()\n",
    "backend_config = {\n",
    "    'backend': backend,\n",
    "    'compilation': backend.default_compilation_pass(2),\n",
    "    'n_shots': 2**13,\n",
    "}\n",
    "\n",
    "train_labels, train_data = hlp.read_data('mc_train_data.txt')\n",
    "test_labels, test_data = hlp.read_data('mc_test_data.txt')"
   ]
  },
  {
   "cell_type": "code",
   "execution_count": 3,
   "id": "4bc1740f",
   "metadata": {},
   "outputs": [
    {
     "name": "stderr",
     "output_type": "stream",
     "text": [
      "\n",
      "\n"
     ]
    }
   ],
   "source": [
    "# train_labels = train_labels[:10]\n",
    "# train_data = train_data[:10]\n",
    "# test_labels = test_labels[:5]\n",
    "# test_data = test_data[:5]\n",
    "\n",
    "train_circs = hlp.build_circuits(train_data)\n",
    "test_circs = hlp.build_circuits(test_data)"
   ]
  },
  {
   "cell_type": "markdown",
   "id": "19f469fb",
   "metadata": {},
   "source": [
    "## Training\n",
    "\n",
    "basically just train the embeddings for as long as possible but save the parameters in the callback funciton"
   ]
  },
  {
   "cell_type": "code",
   "execution_count": 4,
   "id": "6ba55a5c",
   "metadata": {},
   "outputs": [],
   "source": [
    "from sympy import default_sort_key\n",
    "\n",
    "all_circuits = train_circs + test_circs\n",
    "\n",
    "# sort the symbols since they are returned as a set\n",
    "parameters = sorted(\n",
    "    {s for circ in all_circuits for s in circ.free_symbols},\n",
    "    key=default_sort_key)"
   ]
  },
  {
   "cell_type": "code",
   "execution_count": 5,
   "id": "d7b2cd59",
   "metadata": {},
   "outputs": [],
   "source": [
    "train_pred_fn = hlp.make_pred_fn(train_circs, parameters, backend_config)\n",
    "test_pred_fn = hlp.make_pred_fn(test_circs, parameters, backend_config)\n",
    "\n",
    "train_cost_fn, train_costs, train_accs = hlp.make_cost_fn(train_pred_fn, train_labels)\n",
    "\n",
    "# callback_fn, svm_accs = hlp.make_kernel_callback_fn(\n",
    "#     train_circs, test_circs, train_labels, test_labels, parameters, backend_config=backend_config\n",
    "# )\n",
    "\n",
    "x0 = np.array(hlp.rng.random(len(parameters)))"
   ]
  },
  {
   "cell_type": "code",
   "execution_count": 6,
   "id": "f3152f5d",
   "metadata": {},
   "outputs": [],
   "source": [
    "def make_callback_fn(vocab):\n",
    "    s = {'count': 0}\n",
    "    with open('./training-params/parameters.pickle', 'wb') as f:\n",
    "        pickle.dump(vocab, f)\n",
    "    \n",
    "    def callback_fn(params, **kwargs):\n",
    "        np.save(f'./training-params/params_epoch_{s[\"count\"]}', params)\n",
    "        if s['count'] % 10 == 0:\n",
    "            print(f'Completed iteration: {s[\"count\"]}')\n",
    "\n",
    "        s['count'] += 1\n",
    "\n",
    "    return callback_fn\n",
    "\n",
    "\n",
    "callback_fn = make_callback_fn(parameters)"
   ]
  },
  {
   "cell_type": "code",
   "execution_count": null,
   "id": "cec99804",
   "metadata": {},
   "outputs": [
    {
     "name": "stdout",
     "output_type": "stream",
     "text": [
      "Completed iteration: 0\n",
      "Completed iteration: 10\n",
      "Completed iteration: 20\n",
      "Completed iteration: 30\n",
      "Completed iteration: 40\n",
      "Completed iteration: 50\n",
      "Completed iteration: 60\n"
     ]
    }
   ],
   "source": [
    "result = minimizeSPSA(train_cost_fn, x0=x0, a=0.2, c=0.06, niter=100, callback=callback_fn)"
   ]
  },
  {
   "cell_type": "code",
   "execution_count": null,
   "id": "aee8d8de",
   "metadata": {},
   "outputs": [],
   "source": [
    "# accs = np.stack([train_accs[:5], svm_accs], axis=0)\n",
    "np.save('trianing_svm_accs.npy', train_accs)"
   ]
  },
  {
   "cell_type": "code",
   "execution_count": null,
   "id": "b9e7f887",
   "metadata": {},
   "outputs": [],
   "source": [
    "fig = plt.figure(figsize=(8,6))\n",
    "\n",
    "ax2 = fig.add_axes([.2, .2, .6, .6])\n",
    "ax2.plot(range(len(train_accs)), train_accs, 'r-')\n",
    "# ax2.plot(range(len(svm_accs)), svm_accs, 'b-', label='SVM')\n",
    "ax2.set_xlabel('Iteration')\n",
    "ax2.set_ylabel('Accuracy')\n",
    "ax2.legend()\n",
    "\n",
    "plt.show()"
   ]
  },
  {
   "cell_type": "markdown",
   "id": "fe2fa126",
   "metadata": {},
   "source": [
    "## Load and compute accs"
   ]
  },
  {
   "cell_type": "code",
   "execution_count": 4,
   "id": "0bbfe3ad",
   "metadata": {},
   "outputs": [],
   "source": [
    "with open('./training-params/parameters.pickle', 'rb') as f:\n",
    "    params = pickle.load(f)"
   ]
  },
  {
   "cell_type": "code",
   "execution_count": 5,
   "id": "e0447c85",
   "metadata": {},
   "outputs": [],
   "source": [
    "test_pred_fn = hlp.make_pred_fn(test_circs, params, backend_config)\n",
    "test_cost_fn, _, test_accs = hlp.make_cost_fn(test_pred_fn, test_labels)"
   ]
  },
  {
   "cell_type": "code",
   "execution_count": 7,
   "id": "ea6b3b54",
   "metadata": {},
   "outputs": [
    {
     "name": "stdout",
     "output_type": "stream",
     "text": [
      "Number of files: 67\n"
     ]
    }
   ],
   "source": [
    "import os\n",
    "\n",
    "nfiles = len(os.listdir('./training-params')) - 2\n",
    "print(f'Number of files: {nfiles}')"
   ]
  },
  {
   "cell_type": "code",
   "execution_count": null,
   "id": "ede7a4f3",
   "metadata": {},
   "outputs": [],
   "source": [
    "# Testing acc for old way\n",
    "for i in range(nfiles):\n",
    "    epoch_vals = np.load(f'./training-params/params_epoch_{i}.npy')\n",
    "    \n",
    "    test_cost_fn(epoch_vals)\n",
    "\n",
    "np.save('explicit-test-accs', test_accs)"
   ]
  },
  {
   "cell_type": "code",
   "execution_count": null,
   "id": "9ff3b01b",
   "metadata": {},
   "outputs": [
    {
     "name": "stdout",
     "output_type": "stream",
     "text": [
      "Building circuits...\n"
     ]
    },
    {
     "name": "stderr",
     "output_type": "stream",
     "text": [
      "\n",
      "\n"
     ]
    },
    {
     "name": "stdout",
     "output_type": "stream",
     "text": [
      "Took 7.67 s \n",
      "Building training Gram matrix...\n",
      "Took 333.447 s \n",
      "Building testing Gram matrix...\n",
      "Took 300.401 s \n",
      "Finished 1\n",
      "Building circuits...\n"
     ]
    },
    {
     "name": "stderr",
     "output_type": "stream",
     "text": [
      "\n",
      "\n"
     ]
    },
    {
     "name": "stdout",
     "output_type": "stream",
     "text": [
      "Took 13.106 s \n",
      "Building training Gram matrix...\n",
      "Took 435.667 s \n",
      "Building testing Gram matrix...\n",
      "Took 995.221 s \n",
      "Finished 2\n",
      "Building circuits...\n"
     ]
    },
    {
     "name": "stderr",
     "output_type": "stream",
     "text": [
      "\n",
      "\n"
     ]
    },
    {
     "name": "stdout",
     "output_type": "stream",
     "text": [
      "Took 9.352 s \n",
      "Building training Gram matrix...\n"
     ]
    }
   ],
   "source": [
    "try:\n",
    "    svm_swap_accs = np.load('svm_accs_epochs.npy').tolist()\n",
    "except Exception:\n",
    "    svm_swap_accs = []\n",
    "\n",
    "print(f'Starting at {len(svm_swap_accs)}\\n')\n",
    "\n",
    "for i in range(len(svm_swap_accs), nfiles):\n",
    "    epoch_vals = np.load(f'./training-params/params_epoch_{i}.npy')\n",
    "\n",
    "    gram_train, gram_test = hlp.build_gram_matrices(\n",
    "        train_data, test_data, params, epoch_vals,\n",
    "        backend_config=backend_config,\n",
    "        get_sim_fn=hlp.get_swap_test_fn\n",
    "    )\n",
    "\n",
    "    svc = SVC(kernel=\"precomputed\", probability=True)\n",
    "    svc.fit(gram_train, train_labels[:, 0])\n",
    "    score = svc.score(gram_test, test_labels[:, 0])\n",
    "    \n",
    "    svm_swap_accs.append(score)\n",
    "    np.save('svm_accs_epochs', svm_swap_accs)\n",
    "\n",
    "    print(f'\\nFinished {i}\\n')"
   ]
  },
  {
   "cell_type": "code",
   "execution_count": 10,
   "id": "234914df",
   "metadata": {},
   "outputs": [
    {
     "name": "stderr",
     "output_type": "stream",
     "text": [
      "No handles with labels found to put in legend.\n"
     ]
    },
    {
     "data": {
      "image/png": "[encoded data removed]",
      "text/plain": [
       "<Figure size 576x432 with 1 Axes>"
      ]
     },
     "metadata": {
      "needs_background": "light"
     },
     "output_type": "display_data"
    }
   ],
   "source": [
    "fig = plt.figure(figsize=(8,6))\n",
    "\n",
    "ax2 = fig.add_axes([.2, .2, .6, .6])\n",
    "ax2.plot(range(len(test_accs)), test_accs, 'r-')\n",
    "# ax2.plot(range(len(svm_accs)), svm_accs, 'b-', label='SVM')\n",
    "ax2.set_xlabel('Iteration')\n",
    "ax2.set_ylabel('Accuracy')\n",
    "ax2.set_ylim(0.3, 1)\n",
    "ax2.legend()\n",
    "\n",
    "plt.show()"
   ]
  },
  {
   "cell_type": "code",
   "execution_count": null,
   "id": "e5b32334",
   "metadata": {},
   "outputs": [],
   "source": []
  }
 ],
 "metadata": {
  "kernelspec": {
   "display_name": "Python 3 (ipykernel)",
   "language": "python",
   "name": "python3"
  },
  "language_info": {
   "codemirror_mode": {
    "name": "ipython",
    "version": 3
   },
   "file_extension": ".py",
   "mimetype": "text/x-python",
   "name": "python",
   "nbconvert_exporter": "python",
   "pygments_lexer": "ipython3",
   "version": "3.8.10"
  }
 },
 "nbformat": 4,
 "nbformat_minor": 5
}
